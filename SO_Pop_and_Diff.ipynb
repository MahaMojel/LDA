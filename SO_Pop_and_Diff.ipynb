{
 "cells": [
  {
   "cell_type": "code",
   "execution_count": null,
   "metadata": {
    "execution": {
     "iopub.execute_input": "2022-08-13T13:13:38.387089Z",
     "iopub.status.busy": "2022-08-13T13:13:38.386686Z",
     "iopub.status.idle": "2022-08-13T13:13:38.416601Z",
     "shell.execute_reply": "2022-08-13T13:13:38.415725Z",
     "shell.execute_reply.started": "2022-08-13T13:13:38.387021Z"
    },
    "id": "tYOg64JQO5U9"
   },
   "outputs": [],
   "source": [
    "import pandas as pd"
   ]
  },
  {
   "cell_type": "code",
   "execution_count": null,
   "metadata": {
    "execution": {
     "iopub.execute_input": "2022-08-13T13:35:00.998327Z",
     "iopub.status.busy": "2022-08-13T13:35:00.997385Z",
     "iopub.status.idle": "2022-08-13T13:35:02.426016Z",
     "shell.execute_reply": "2022-08-13T13:35:02.424650Z",
     "shell.execute_reply.started": "2022-08-13T13:35:00.998292Z"
    },
    "id": "R_LELTVwO5VB",
    "outputId": "f8bfb63f-ecbb-479a-a30a-2d447b0629ea"
   },
   "outputs": [
    {
     "data": {
      "text/html": [
       "<div>\n",
       "<style scoped>\n",
       "    .dataframe tbody tr th:only-of-type {\n",
       "        vertical-align: middle;\n",
       "    }\n",
       "\n",
       "    .dataframe tbody tr th {\n",
       "        vertical-align: top;\n",
       "    }\n",
       "\n",
       "    .dataframe thead th {\n",
       "        text-align: right;\n",
       "    }\n",
       "</style>\n",
       "<table border=\"1\" class=\"dataframe\">\n",
       "  <thead>\n",
       "    <tr style=\"text-align: right;\">\n",
       "      <th></th>\n",
       "      <th>Id</th>\n",
       "      <th>PostTypeId</th>\n",
       "      <th>CreationDate</th>\n",
       "      <th>Score</th>\n",
       "      <th>ViewCount</th>\n",
       "      <th>Body</th>\n",
       "      <th>OwnerUserId</th>\n",
       "      <th>LastActivityDate</th>\n",
       "      <th>Title</th>\n",
       "      <th>Tags</th>\n",
       "      <th>...</th>\n",
       "      <th>FavoriteCount</th>\n",
       "      <th>ClosedDate</th>\n",
       "      <th>ContentLicense</th>\n",
       "      <th>AcceptedAnswerId</th>\n",
       "      <th>LastEditorUserId</th>\n",
       "      <th>LastEditDate</th>\n",
       "      <th>ParentId</th>\n",
       "      <th>OwnerDisplayName</th>\n",
       "      <th>CommunityOwnedDate</th>\n",
       "      <th>LastEditorDisplayName</th>\n",
       "    </tr>\n",
       "  </thead>\n",
       "  <tbody>\n",
       "    <tr>\n",
       "      <th>0</th>\n",
       "      <td>5</td>\n",
       "      <td>1</td>\n",
       "      <td>2014-05-13T23:58:30.457</td>\n",
       "      <td>9</td>\n",
       "      <td>820.0</td>\n",
       "      <td>&lt;p&gt;I've always been interested in machine lear...</td>\n",
       "      <td>5.0</td>\n",
       "      <td>2014-05-14T00:36:31.077</td>\n",
       "      <td>How can I do simple machine learning without h...</td>\n",
       "      <td>&lt;machine-learning&gt;</td>\n",
       "      <td>...</td>\n",
       "      <td>1.0</td>\n",
       "      <td>2014-05-14T14:40:25.950</td>\n",
       "      <td>CC BY-SA 3.0</td>\n",
       "      <td>NaN</td>\n",
       "      <td>NaN</td>\n",
       "      <td>NaN</td>\n",
       "      <td>NaN</td>\n",
       "      <td>NaN</td>\n",
       "      <td>NaN</td>\n",
       "      <td>NaN</td>\n",
       "    </tr>\n",
       "    <tr>\n",
       "      <th>1</th>\n",
       "      <td>7</td>\n",
       "      <td>1</td>\n",
       "      <td>2014-05-14T00:11:06.457</td>\n",
       "      <td>4</td>\n",
       "      <td>462.0</td>\n",
       "      <td>&lt;p&gt;As a researcher and instructor, I'm looking...</td>\n",
       "      <td>36.0</td>\n",
       "      <td>2014-05-16T13:45:00.237</td>\n",
       "      <td>What open-source books (or other materials) pr...</td>\n",
       "      <td>&lt;education&gt;&lt;open-source&gt;</td>\n",
       "      <td>...</td>\n",
       "      <td>1.0</td>\n",
       "      <td>2014-05-14T08:40:54.950</td>\n",
       "      <td>CC BY-SA 3.0</td>\n",
       "      <td>10.0</td>\n",
       "      <td>97.0</td>\n",
       "      <td>2014-05-16T13:45:00.237</td>\n",
       "      <td>NaN</td>\n",
       "      <td>NaN</td>\n",
       "      <td>NaN</td>\n",
       "      <td>NaN</td>\n",
       "    </tr>\n",
       "    <tr>\n",
       "      <th>2</th>\n",
       "      <td>9</td>\n",
       "      <td>2</td>\n",
       "      <td>2014-05-14T00:36:31.077</td>\n",
       "      <td>5</td>\n",
       "      <td>NaN</td>\n",
       "      <td>&lt;p&gt;Not sure if this fits the scope of this SE,...</td>\n",
       "      <td>51.0</td>\n",
       "      <td>2014-05-14T00:36:31.077</td>\n",
       "      <td>NaN</td>\n",
       "      <td>NaN</td>\n",
       "      <td>...</td>\n",
       "      <td>NaN</td>\n",
       "      <td>NaN</td>\n",
       "      <td>CC BY-SA 3.0</td>\n",
       "      <td>NaN</td>\n",
       "      <td>NaN</td>\n",
       "      <td>NaN</td>\n",
       "      <td>5.0</td>\n",
       "      <td>NaN</td>\n",
       "      <td>NaN</td>\n",
       "      <td>NaN</td>\n",
       "    </tr>\n",
       "    <tr>\n",
       "      <th>3</th>\n",
       "      <td>10</td>\n",
       "      <td>2</td>\n",
       "      <td>2014-05-14T00:53:43.273</td>\n",
       "      <td>13</td>\n",
       "      <td>NaN</td>\n",
       "      <td>&lt;p&gt;One book that's freely available is \"The El...</td>\n",
       "      <td>22.0</td>\n",
       "      <td>2014-05-14T00:53:43.273</td>\n",
       "      <td>NaN</td>\n",
       "      <td>NaN</td>\n",
       "      <td>...</td>\n",
       "      <td>NaN</td>\n",
       "      <td>NaN</td>\n",
       "      <td>CC BY-SA 3.0</td>\n",
       "      <td>NaN</td>\n",
       "      <td>NaN</td>\n",
       "      <td>NaN</td>\n",
       "      <td>7.0</td>\n",
       "      <td>NaN</td>\n",
       "      <td>NaN</td>\n",
       "      <td>NaN</td>\n",
       "    </tr>\n",
       "    <tr>\n",
       "      <th>4</th>\n",
       "      <td>14</td>\n",
       "      <td>1</td>\n",
       "      <td>2014-05-14T01:25:59.677</td>\n",
       "      <td>25</td>\n",
       "      <td>1876.0</td>\n",
       "      <td>&lt;p&gt;I am sure data science as will be discussed...</td>\n",
       "      <td>66.0</td>\n",
       "      <td>2020-08-16T13:01:33.543</td>\n",
       "      <td>Is Data Science the Same as Data Mining?</td>\n",
       "      <td>&lt;data-mining&gt;&lt;definitions&gt;</td>\n",
       "      <td>...</td>\n",
       "      <td>6.0</td>\n",
       "      <td>NaN</td>\n",
       "      <td>CC BY-SA 3.0</td>\n",
       "      <td>29.0</td>\n",
       "      <td>322.0</td>\n",
       "      <td>2014-06-17T16:17:20.473</td>\n",
       "      <td>NaN</td>\n",
       "      <td>NaN</td>\n",
       "      <td>NaN</td>\n",
       "      <td>NaN</td>\n",
       "    </tr>\n",
       "  </tbody>\n",
       "</table>\n",
       "<p>5 rows × 22 columns</p>\n",
       "</div>"
      ],
      "text/plain": [
       "   Id  PostTypeId             CreationDate  Score  ViewCount  \\\n",
       "0   5           1  2014-05-13T23:58:30.457      9      820.0   \n",
       "1   7           1  2014-05-14T00:11:06.457      4      462.0   \n",
       "2   9           2  2014-05-14T00:36:31.077      5        NaN   \n",
       "3  10           2  2014-05-14T00:53:43.273     13        NaN   \n",
       "4  14           1  2014-05-14T01:25:59.677     25     1876.0   \n",
       "\n",
       "                                                Body  OwnerUserId  \\\n",
       "0  <p>I've always been interested in machine lear...          5.0   \n",
       "1  <p>As a researcher and instructor, I'm looking...         36.0   \n",
       "2  <p>Not sure if this fits the scope of this SE,...         51.0   \n",
       "3  <p>One book that's freely available is \"The El...         22.0   \n",
       "4  <p>I am sure data science as will be discussed...         66.0   \n",
       "\n",
       "          LastActivityDate                                              Title  \\\n",
       "0  2014-05-14T00:36:31.077  How can I do simple machine learning without h...   \n",
       "1  2014-05-16T13:45:00.237  What open-source books (or other materials) pr...   \n",
       "2  2014-05-14T00:36:31.077                                                NaN   \n",
       "3  2014-05-14T00:53:43.273                                                NaN   \n",
       "4  2020-08-16T13:01:33.543           Is Data Science the Same as Data Mining?   \n",
       "\n",
       "                         Tags  ...  FavoriteCount               ClosedDate  \\\n",
       "0          <machine-learning>  ...            1.0  2014-05-14T14:40:25.950   \n",
       "1    <education><open-source>  ...            1.0  2014-05-14T08:40:54.950   \n",
       "2                         NaN  ...            NaN                      NaN   \n",
       "3                         NaN  ...            NaN                      NaN   \n",
       "4  <data-mining><definitions>  ...            6.0                      NaN   \n",
       "\n",
       "   ContentLicense AcceptedAnswerId LastEditorUserId             LastEditDate  \\\n",
       "0    CC BY-SA 3.0              NaN              NaN                      NaN   \n",
       "1    CC BY-SA 3.0             10.0             97.0  2014-05-16T13:45:00.237   \n",
       "2    CC BY-SA 3.0              NaN              NaN                      NaN   \n",
       "3    CC BY-SA 3.0              NaN              NaN                      NaN   \n",
       "4    CC BY-SA 3.0             29.0            322.0  2014-06-17T16:17:20.473   \n",
       "\n",
       "   ParentId OwnerDisplayName  CommunityOwnedDate LastEditorDisplayName  \n",
       "0       NaN              NaN                 NaN                   NaN  \n",
       "1       NaN              NaN                 NaN                   NaN  \n",
       "2       5.0              NaN                 NaN                   NaN  \n",
       "3       7.0              NaN                 NaN                   NaN  \n",
       "4       NaN              NaN                 NaN                   NaN  \n",
       "\n",
       "[5 rows x 22 columns]"
      ]
     },
     "execution_count": 10,
     "metadata": {},
     "output_type": "execute_result"
    }
   ],
   "source": [
    "import pandas as pd\n",
    "df = pd.read_csv('../input/data-science-posts/df.csv')\n",
    "df.head()"
   ]
  },
  {
   "cell_type": "code",
   "execution_count": null,
   "metadata": {
    "execution": {
     "iopub.execute_input": "2022-08-13T13:35:06.349931Z",
     "iopub.status.busy": "2022-08-13T13:35:06.348932Z",
     "iopub.status.idle": "2022-08-13T13:35:06.356903Z",
     "shell.execute_reply": "2022-08-13T13:35:06.355913Z",
     "shell.execute_reply.started": "2022-08-13T13:35:06.349903Z"
    },
    "id": "2XUtr4gZO5VC",
    "outputId": "7fa10321-bfc5-40ba-f932-3f3d0829d8e7"
   },
   "outputs": [
    {
     "data": {
      "text/plain": [
       "Index(['Id', 'PostTypeId', 'CreationDate', 'Score', 'ViewCount', 'Body',\n",
       "       'OwnerUserId', 'LastActivityDate', 'Title', 'Tags', 'AnswerCount',\n",
       "       'CommentCount', 'FavoriteCount', 'ClosedDate', 'ContentLicense',\n",
       "       'AcceptedAnswerId', 'LastEditorUserId', 'LastEditDate', 'ParentId',\n",
       "       'OwnerDisplayName', 'CommunityOwnedDate', 'LastEditorDisplayName'],\n",
       "      dtype='object')"
      ]
     },
     "execution_count": 11,
     "metadata": {},
     "output_type": "execute_result"
    }
   ],
   "source": [
    "df.columns"
   ]
  },
  {
   "cell_type": "code",
   "execution_count": null,
   "metadata": {
    "execution": {
     "iopub.execute_input": "2022-08-13T13:35:08.872982Z",
     "iopub.status.busy": "2022-08-13T13:35:08.872206Z",
     "iopub.status.idle": "2022-08-13T13:35:08.878826Z",
     "shell.execute_reply": "2022-08-13T13:35:08.877671Z",
     "shell.execute_reply.started": "2022-08-13T13:35:08.872953Z"
    },
    "id": "AZH-1o0oO5VD",
    "outputId": "8da66216-caf2-4baa-871a-d5df8499489f"
   },
   "outputs": [
    {
     "data": {
      "text/plain": [
       "(69111, 22)"
      ]
     },
     "execution_count": 12,
     "metadata": {},
     "output_type": "execute_result"
    }
   ],
   "source": [
    "df.shape"
   ]
  },
  {
   "cell_type": "code",
   "execution_count": null,
   "metadata": {
    "execution": {
     "iopub.execute_input": "2022-08-13T13:35:13.392256Z",
     "iopub.status.busy": "2022-08-13T13:35:13.391877Z",
     "iopub.status.idle": "2022-08-13T13:35:13.488500Z",
     "shell.execute_reply": "2022-08-13T13:35:13.487635Z",
     "shell.execute_reply.started": "2022-08-13T13:35:13.392231Z"
    },
    "id": "znnj94wiO5VD"
   },
   "outputs": [],
   "source": [
    "df = df.drop_duplicates(subset=['Body'], keep='first')"
   ]
  },
  {
   "cell_type": "code",
   "execution_count": null,
   "metadata": {
    "execution": {
     "iopub.execute_input": "2022-08-13T13:35:13.867161Z",
     "iopub.status.busy": "2022-08-13T13:35:13.866809Z",
     "iopub.status.idle": "2022-08-13T13:35:13.872888Z",
     "shell.execute_reply": "2022-08-13T13:35:13.872131Z",
     "shell.execute_reply.started": "2022-08-13T13:35:13.867121Z"
    },
    "id": "jL-KVY_mO5VE",
    "outputId": "a3ebdadc-cda2-4427-d18a-0512f1cba669"
   },
   "outputs": [
    {
     "data": {
      "text/plain": [
       "(68940, 22)"
      ]
     },
     "execution_count": 14,
     "metadata": {},
     "output_type": "execute_result"
    }
   ],
   "source": [
    "df.shape"
   ]
  },
  {
   "cell_type": "code",
   "execution_count": null,
   "metadata": {
    "execution": {
     "iopub.execute_input": "2022-08-13T13:35:15.376542Z",
     "iopub.status.busy": "2022-08-13T13:35:15.376256Z",
     "iopub.status.idle": "2022-08-13T13:35:15.381056Z",
     "shell.execute_reply": "2022-08-13T13:35:15.380163Z",
     "shell.execute_reply.started": "2022-08-13T13:35:15.376518Z"
    },
    "id": "giAdvyv8O5VE"
   },
   "outputs": [],
   "source": [
    "df.reset_index(drop=True, inplace=True)"
   ]
  },
  {
   "cell_type": "code",
   "execution_count": null,
   "metadata": {
    "execution": {
     "iopub.execute_input": "2022-08-13T13:35:18.307309Z",
     "iopub.status.busy": "2022-08-13T13:35:18.306295Z",
     "iopub.status.idle": "2022-08-13T13:35:18.313615Z",
     "shell.execute_reply": "2022-08-13T13:35:18.312606Z",
     "shell.execute_reply.started": "2022-08-13T13:35:18.307283Z"
    },
    "id": "2pFCA4FcO5VF",
    "outputId": "abb16f5e-9f8d-45db-bcc1-5dc1928b4628"
   },
   "outputs": [
    {
     "data": {
      "text/plain": [
       "'<p>I\\'ve always been interested in machine learning, but I can\\'t figure out one thing about starting out with a simple \"Hello World\" example - how can I avoid hard-coding behavior?</p>\\n\\n<p>For example, if I wanted to \"teach\" a bot how to avoid randomly placed obstacles, I couldn\\'t just use relative motion, because the obstacles move around, but I don\\'t want to hard code, say, distance, because that ruins the whole point of machine learning.</p>\\n\\n<p>Obviously, randomly generating code would be impractical, so how could I do this?</p>\\n'"
      ]
     },
     "execution_count": 16,
     "metadata": {},
     "output_type": "execute_result"
    }
   ],
   "source": [
    "df.Body[0] #test"
   ]
  },
  {
   "cell_type": "code",
   "execution_count": null,
   "metadata": {
    "execution": {
     "iopub.execute_input": "2022-08-13T13:35:24.277590Z",
     "iopub.status.busy": "2022-08-13T13:35:24.276529Z",
     "iopub.status.idle": "2022-08-13T13:35:24.304597Z",
     "shell.execute_reply": "2022-08-13T13:35:24.303581Z",
     "shell.execute_reply.started": "2022-08-13T13:35:24.277531Z"
    },
    "id": "1WCMakifO5VG"
   },
   "outputs": [],
   "source": [
    "df = df.sample(n=10000, random_state=42)"
   ]
  },
  {
   "cell_type": "code",
   "execution_count": null,
   "metadata": {
    "execution": {
     "iopub.execute_input": "2022-08-13T13:35:26.012742Z",
     "iopub.status.busy": "2022-08-13T13:35:26.011796Z",
     "iopub.status.idle": "2022-08-13T13:35:26.018508Z",
     "shell.execute_reply": "2022-08-13T13:35:26.017614Z",
     "shell.execute_reply.started": "2022-08-13T13:35:26.012715Z"
    },
    "id": "6lDTdUDwO5VG"
   },
   "outputs": [],
   "source": [
    "df.reset_index(drop=True, inplace=True)"
   ]
  },
  {
   "cell_type": "code",
   "execution_count": null,
   "metadata": {
    "execution": {
     "iopub.execute_input": "2022-08-13T13:37:19.032747Z",
     "iopub.status.busy": "2022-08-13T13:37:19.031828Z",
     "iopub.status.idle": "2022-08-13T13:37:19.670469Z",
     "shell.execute_reply": "2022-08-13T13:37:19.669815Z",
     "shell.execute_reply.started": "2022-08-13T13:37:19.032719Z"
    },
    "id": "RRWI4bNNO5VH",
    "outputId": "0834217c-37da-4a8c-ce53-8ff6861e04b7"
   },
   "outputs": [
    {
     "name": "stderr",
     "output_type": "stream",
     "text": [
      "[nltk_data] Downloading package stopwords to /usr/share/nltk_data...\n",
      "[nltk_data]   Package stopwords is already up-to-date!\n"
     ]
    },
    {
     "data": {
      "text/plain": [
       "True"
      ]
     },
     "execution_count": 20,
     "metadata": {},
     "output_type": "execute_result"
    }
   ],
   "source": [
    "import nltk; nltk.download('stopwords')"
   ]
  },
  {
   "cell_type": "code",
   "execution_count": null,
   "metadata": {
    "execution": {
     "iopub.execute_input": "2022-08-13T13:37:22.795041Z",
     "iopub.status.busy": "2022-08-13T13:37:22.793806Z",
     "iopub.status.idle": "2022-08-13T13:37:22.799815Z",
     "shell.execute_reply": "2022-08-13T13:37:22.798995Z",
     "shell.execute_reply.started": "2022-08-13T13:37:22.794969Z"
    },
    "id": "vbWgpWVQO5VH"
   },
   "outputs": [],
   "source": [
    "import re\n",
    "import numpy as np\n",
    "import pandas as pd\n",
    "from pprint import pprint\n",
    "\n"
   ]
  },
  {
   "cell_type": "code",
   "execution_count": null,
   "metadata": {
    "execution": {
     "iopub.execute_input": "2022-08-13T13:37:24.687015Z",
     "iopub.status.busy": "2022-08-13T13:37:24.686437Z",
     "iopub.status.idle": "2022-08-13T13:37:24.691812Z",
     "shell.execute_reply": "2022-08-13T13:37:24.691036Z",
     "shell.execute_reply.started": "2022-08-13T13:37:24.686983Z"
    },
    "id": "QlzwX23lO5VI"
   },
   "outputs": [],
   "source": [
    "# Gensim\n",
    "import gensim\n",
    "import gensim.corpora as corpora\n",
    "from gensim.utils import simple_preprocess\n",
    "from gensim.models import CoherenceModel\n",
    "\n"
   ]
  },
  {
   "cell_type": "code",
   "execution_count": null,
   "metadata": {
    "execution": {
     "iopub.execute_input": "2022-08-13T13:15:18.704098Z",
     "iopub.status.busy": "2022-08-13T13:15:18.703071Z",
     "iopub.status.idle": "2022-08-13T13:15:18.708277Z",
     "shell.execute_reply": "2022-08-13T13:15:18.707409Z",
     "shell.execute_reply.started": "2022-08-13T13:15:18.704016Z"
    },
    "id": "1IdV1RBAO5VI"
   },
   "outputs": [],
   "source": [
    "import spacy\n",
    "\n"
   ]
  },
  {
   "cell_type": "code",
   "execution_count": null,
   "metadata": {
    "execution": {
     "iopub.execute_input": "2022-08-13T13:15:27.087297Z",
     "iopub.status.busy": "2022-08-13T13:15:27.086938Z",
     "iopub.status.idle": "2022-08-13T13:15:27.091360Z",
     "shell.execute_reply": "2022-08-13T13:15:27.090450Z",
     "shell.execute_reply.started": "2022-08-13T13:15:27.087273Z"
    },
    "id": "EAxw4SdcO5VI"
   },
   "outputs": [],
   "source": [
    "import pyLDAvis\n",
    "\n",
    "import pyLDAvis.gensim\n",
    "\n"
   ]
  },
  {
   "cell_type": "code",
   "execution_count": null,
   "metadata": {
    "execution": {
     "iopub.execute_input": "2022-08-13T13:15:31.779374Z",
     "iopub.status.busy": "2022-08-13T13:15:31.778836Z",
     "iopub.status.idle": "2022-08-13T13:15:31.784650Z",
     "shell.execute_reply": "2022-08-13T13:15:31.783839Z",
     "shell.execute_reply.started": "2022-08-13T13:15:31.779349Z"
    },
    "id": "BlMVCU_WO5VJ"
   },
   "outputs": [],
   "source": [
    "import matplotlib.pyplot as plt\n",
    "%matplotlib inline\n",
    "\n",
    "import logging\n",
    "logging.basicConfig(format='%(asctime)s : %(levelname)s : %(message)s', level=logging.ERROR)\n",
    "\n",
    "import warnings\n",
    "warnings.filterwarnings(\"ignore\",category=DeprecationWarning)"
   ]
  },
  {
   "cell_type": "code",
   "execution_count": null,
   "metadata": {
    "execution": {
     "iopub.execute_input": "2022-08-13T13:37:31.694577Z",
     "iopub.status.busy": "2022-08-13T13:37:31.694234Z",
     "iopub.status.idle": "2022-08-13T13:37:31.703646Z",
     "shell.execute_reply": "2022-08-13T13:37:31.702872Z",
     "shell.execute_reply.started": "2022-08-13T13:37:31.694551Z"
    },
    "id": "vUY6veayO5VJ"
   },
   "outputs": [],
   "source": [
    "# NLTK Stop words\n",
    "from nltk.corpus import stopwords\n",
    "stop_words = stopwords.words('english')\n",
    "stop_words.extend(['from', 'subject', 're', 'edu', 'use', 'not', 'would', 'say', 'could', '_', 'be', 'know', 'good', 'go', 'get', 'do', 'done', 'try', 'many', 'some', 'nice', 'thank', 'think', 'see', 'rather', 'easy', 'easily', 'lot', 'lack', 'make', 'want', 'seem', 'run', 'need', 'even', 'right', 'line', 'even', 'also', 'may', 'take', 'come'])"
   ]
  },
  {
   "cell_type": "code",
   "execution_count": null,
   "metadata": {
    "execution": {
     "iopub.execute_input": "2022-08-13T13:37:33.494346Z",
     "iopub.status.busy": "2022-08-13T13:37:33.493801Z",
     "iopub.status.idle": "2022-08-13T13:37:33.500390Z",
     "shell.execute_reply": "2022-08-13T13:37:33.499325Z",
     "shell.execute_reply.started": "2022-08-13T13:37:33.494310Z"
    },
    "id": "tyi_r1aYO5VK",
    "outputId": "249d8714-a705-477d-cd56-26e145978870"
   },
   "outputs": [
    {
     "data": {
      "text/plain": [
       "221"
      ]
     },
     "execution_count": 24,
     "metadata": {},
     "output_type": "execute_result"
    }
   ],
   "source": [
    "len(stop_words)"
   ]
  },
  {
   "cell_type": "code",
   "execution_count": null,
   "metadata": {
    "execution": {
     "iopub.execute_input": "2022-08-13T13:37:35.094123Z",
     "iopub.status.busy": "2022-08-13T13:37:35.093775Z",
     "iopub.status.idle": "2022-08-13T13:37:35.100361Z",
     "shell.execute_reply": "2022-08-13T13:37:35.098755Z",
     "shell.execute_reply.started": "2022-08-13T13:37:35.094098Z"
    },
    "id": "0f0jVnAYO5VK"
   },
   "outputs": [],
   "source": [
    "def clean(text):\n",
    "    punctuation = '!\"#$%&\\'()*+,-/:;<=>?@[\\\\]^_`{|}~.'\n",
    "    text  = \"\".join([char for char in text if char not in punctuation])\n",
    "    text = re.sub('[0-9]+', '', text)\n",
    "    text = re.sub(r'\\b\\w{1,2}\\b', '', text)\n",
    "    return text"
   ]
  },
  {
   "cell_type": "code",
   "execution_count": null,
   "metadata": {
    "execution": {
     "iopub.execute_input": "2022-08-13T13:37:35.924264Z",
     "iopub.status.busy": "2022-08-13T13:37:35.923355Z",
     "iopub.status.idle": "2022-08-13T13:37:35.931395Z",
     "shell.execute_reply": "2022-08-13T13:37:35.930353Z",
     "shell.execute_reply.started": "2022-08-13T13:37:35.924207Z"
    },
    "id": "lmdZ2PFbO5VK"
   },
   "outputs": [],
   "source": [
    "def removestopwords(df):\n",
    "    stop = stopwords.words('english')\n",
    "    df['Body'] = df['Body'].apply(lambda x: ' '.join([word for word in x.split() if word not in (stop)]))\n",
    "    df['Body'] = df['Body'].apply(lambda x: clean(x))\n",
    "    return df"
   ]
  },
  {
   "cell_type": "code",
   "execution_count": null,
   "metadata": {
    "execution": {
     "iopub.execute_input": "2022-08-13T13:37:51.634614Z",
     "iopub.status.busy": "2022-08-13T13:37:51.632940Z",
     "iopub.status.idle": "2022-08-13T13:37:51.640272Z",
     "shell.execute_reply": "2022-08-13T13:37:51.639215Z",
     "shell.execute_reply.started": "2022-08-13T13:37:51.634557Z"
    },
    "id": "hR9o0RToO5VL"
   },
   "outputs": [],
   "source": [
    "import string\n",
    "\n",
    "english_punctuations = '''`÷×؛<>_()*&^%][ـ،/:\"؟.,'{}~¦+|!”…“–ـ؛\"-…،'''\n",
    "english_punctuations2 = string.punctuation\n",
    "punctuations_list = english_punctuations + english_punctuations2\n",
    "\n",
    "def remove_punctuations(text):\n",
    "    translator  = re.compile('[%s]' % re.escape(punctuations_list))\n",
    "    translator .sub(' ', text)\n",
    "    text = re.sub(' +',' ', text).strip()\n",
    "    return text\n"
   ]
  },
  {
   "cell_type": "code",
   "execution_count": null,
   "metadata": {
    "execution": {
     "iopub.execute_input": "2022-08-13T13:37:54.322952Z",
     "iopub.status.busy": "2022-08-13T13:37:54.322269Z",
     "iopub.status.idle": "2022-08-13T13:37:54.329503Z",
     "shell.execute_reply": "2022-08-13T13:37:54.328622Z",
     "shell.execute_reply.started": "2022-08-13T13:37:54.322917Z"
    },
    "id": "_qYVX8lyO5VL",
    "outputId": "10e39dcd-ee37-4cce-a45c-f6d47a296886"
   },
   "outputs": [
    {
     "data": {
      "text/plain": [
       "'<p>No you should declare it ahead of the class, just after importing the packages. You have declare the seed for numpy and tensorflow separately. For further details read this blog -\\n<a href=\"https://machinelearningmastery.com/reproducible-results-neural-networks-keras/\" rel=\"nofollow noreferrer\">https://machinelearningmastery.com/reproducible-results-neural-networks-keras/</a></p>\\n'"
      ]
     },
     "execution_count": 28,
     "metadata": {},
     "output_type": "execute_result"
    }
   ],
   "source": [
    "df['Body'][0]"
   ]
  },
  {
   "cell_type": "code",
   "execution_count": null,
   "metadata": {
    "execution": {
     "iopub.execute_input": "2022-08-13T13:37:59.572309Z",
     "iopub.status.busy": "2022-08-13T13:37:59.571974Z",
     "iopub.status.idle": "2022-08-13T13:38:00.296892Z",
     "shell.execute_reply": "2022-08-13T13:38:00.295948Z",
     "shell.execute_reply.started": "2022-08-13T13:37:59.572285Z"
    },
    "id": "8UOTwm4QO5VL"
   },
   "outputs": [],
   "source": [
    "df['Body'] = df['Body'].apply(lambda x: remove_punctuations(x))\n"
   ]
  },
  {
   "cell_type": "code",
   "execution_count": null,
   "metadata": {
    "execution": {
     "iopub.execute_input": "2022-08-13T13:38:00.298825Z",
     "iopub.status.busy": "2022-08-13T13:38:00.298586Z",
     "iopub.status.idle": "2022-08-13T13:38:01.330037Z",
     "shell.execute_reply": "2022-08-13T13:38:01.328970Z",
     "shell.execute_reply.started": "2022-08-13T13:38:00.298803Z"
    },
    "id": "kBu5Sw8vO5VM",
    "outputId": "d58f1f74-f022-49f8-f8a5-8b2e1643df2a"
   },
   "outputs": [
    {
     "name": "stderr",
     "output_type": "stream",
     "text": [
      "/opt/conda/lib/python3.7/site-packages/ipykernel_launcher.py:24: FutureWarning: The default value of regex will change from True to False in a future version.\n",
      "/opt/conda/lib/python3.7/site-packages/ipykernel_launcher.py:25: FutureWarning: The default value of regex will change from True to False in a future version.\n"
     ]
    }
   ],
   "source": [
    "df['Body'] = df['Body'].str.replace('<p><a href=',' ')\n",
    "df['Body'] = df['Body'].str.replace('</p>',' ')\n",
    "df['Body'] = df['Body'].str.replace('\\n',' ')\n",
    "df['Body'] = df['Body'].str.replace('<p>',' ')\n",
    "df['Body'] = df['Body'].str.replace('</a',' ')\n",
    "df['Body'] = df['Body'].str.replace('<a ',' ')\n",
    "\n",
    "df['Body'] = df['Body'].str.replace('>',' ')\n",
    "\n",
    "df['Body'] = df['Body'].str.replace('=',' ')\n",
    "df['Body'] = df['Body'].str.replace('href',' ')\n",
    "\n",
    "\n",
    "\n",
    "\n",
    "df['Body'].replace(r'…',' ',inplace=True, regex=True)\n",
    "df['Body'].replace(r'_',' ',inplace=True, regex=True)\n",
    "df['Body'].replace(r'\\\\\\)',' ',inplace=True, regex=True)\n",
    "df['Body'].replace(r'،',' ',inplace=True, regex=True)\n",
    "df['Body'].replace(r'\"',' ',inplace=True, regex=True)\n",
    "df['Body'].replace(r'-',' ',inplace=True, regex=True)\n",
    "df['Body'].replace(r'؛',' ',inplace=True, regex=True)\n",
    "df['Body'].replace(r'/',' ',inplace=True, regex=True)\n",
    "df['Body'] = df['Body'].str.replace('\\d+', ' ')\n",
    "df['Body'] = df['Body'].str.replace(' +',' ')\n",
    "df['Body'] = df['Body'].str.replace('RT',' ')\n",
    "df['Body'] = df['Body'].str.replace('#',' ')"
   ]
  },
  {
   "cell_type": "code",
   "execution_count": null,
   "metadata": {
    "execution": {
     "iopub.execute_input": "2022-08-13T13:38:03.155795Z",
     "iopub.status.busy": "2022-08-13T13:38:03.155466Z",
     "iopub.status.idle": "2022-08-13T13:38:03.161643Z",
     "shell.execute_reply": "2022-08-13T13:38:03.160934Z",
     "shell.execute_reply.started": "2022-08-13T13:38:03.155771Z"
    },
    "id": "j4lixiYOO5VM",
    "outputId": "2f32d50e-94f3-455a-9fab-6f71099e459c"
   },
   "outputs": [
    {
     "data": {
      "text/plain": [
       "' No you should declare it ahead of the class, just after importing the packages. You have declare the seed for numpy and tensorflow separately. For further details read this blog https: machinelearningmastery.com reproducible results neural networks keras rel nofollow noreferrer https: machinelearningmastery.com reproducible results neural networks keras '"
      ]
     },
     "execution_count": 31,
     "metadata": {},
     "output_type": "execute_result"
    }
   ],
   "source": [
    "df['Body'][0]"
   ]
  },
  {
   "cell_type": "code",
   "execution_count": null,
   "metadata": {
    "execution": {
     "iopub.execute_input": "2022-08-13T13:38:04.964989Z",
     "iopub.status.busy": "2022-08-13T13:38:04.964660Z",
     "iopub.status.idle": "2022-08-13T13:38:08.623187Z",
     "shell.execute_reply": "2022-08-13T13:38:08.622161Z",
     "shell.execute_reply.started": "2022-08-13T13:38:04.964964Z"
    },
    "id": "8FEeV-VUO5VM"
   },
   "outputs": [],
   "source": [
    "from nltk.tokenize import RegexpTokenizer\n",
    "stop_en = stopwords.words('english')\n",
    "tokenizer = RegexpTokenizer(r'\\w+')\n",
    "after_stopwords = []\n",
    "\n",
    "for i in df[\"Body\"]:\n",
    "    tokens = tokenizer.tokenize(i)\n",
    "    stopped_tokens = [w for w in tokens if w not in stop_en and w not in punctuations_list]\n",
    "   \n",
    "    after_stopwords.append(' '.join(stopped_tokens))\n",
    "df['Body'] = after_stopwords"
   ]
  },
  {
   "cell_type": "code",
   "execution_count": null,
   "metadata": {
    "execution": {
     "iopub.execute_input": "2022-08-13T13:38:08.816344Z",
     "iopub.status.busy": "2022-08-13T13:38:08.816015Z",
     "iopub.status.idle": "2022-08-13T13:38:08.823394Z",
     "shell.execute_reply": "2022-08-13T13:38:08.822186Z",
     "shell.execute_reply.started": "2022-08-13T13:38:08.816320Z"
    },
    "id": "0XGwpDTLO5VN",
    "outputId": "6dd4b19b-ed42-46aa-9344-c6696c980c49"
   },
   "outputs": [
    {
     "data": {
      "text/plain": [
       "'No declare ahead class importing packages You declare seed numpy tensorflow separately For details read blog https machinelearningmastery com reproducible results neural networks keras rel nofollow noreferrer https machinelearningmastery com reproducible results neural networks keras'"
      ]
     },
     "execution_count": 33,
     "metadata": {},
     "output_type": "execute_result"
    }
   ],
   "source": [
    "df['Body'][0]"
   ]
  },
  {
   "cell_type": "code",
   "execution_count": null,
   "metadata": {
    "execution": {
     "iopub.execute_input": "2022-08-13T13:38:11.594677Z",
     "iopub.status.busy": "2022-08-13T13:38:11.594285Z",
     "iopub.status.idle": "2022-08-13T13:38:11.619101Z",
     "shell.execute_reply": "2022-08-13T13:38:11.618288Z",
     "shell.execute_reply.started": "2022-08-13T13:38:11.594649Z"
    },
    "id": "35sosCRxO5VN",
    "outputId": "a135a918-f209-42bd-d8b6-7c8a2c1a2a34"
   },
   "outputs": [
    {
     "data": {
      "text/html": [
       "<div>\n",
       "<style scoped>\n",
       "    .dataframe tbody tr th:only-of-type {\n",
       "        vertical-align: middle;\n",
       "    }\n",
       "\n",
       "    .dataframe tbody tr th {\n",
       "        vertical-align: top;\n",
       "    }\n",
       "\n",
       "    .dataframe thead th {\n",
       "        text-align: right;\n",
       "    }\n",
       "</style>\n",
       "<table border=\"1\" class=\"dataframe\">\n",
       "  <thead>\n",
       "    <tr style=\"text-align: right;\">\n",
       "      <th></th>\n",
       "      <th>Id</th>\n",
       "      <th>PostTypeId</th>\n",
       "      <th>CreationDate</th>\n",
       "      <th>Score</th>\n",
       "      <th>ViewCount</th>\n",
       "      <th>Body</th>\n",
       "      <th>OwnerUserId</th>\n",
       "      <th>LastActivityDate</th>\n",
       "      <th>Title</th>\n",
       "      <th>Tags</th>\n",
       "      <th>...</th>\n",
       "      <th>FavoriteCount</th>\n",
       "      <th>ClosedDate</th>\n",
       "      <th>ContentLicense</th>\n",
       "      <th>AcceptedAnswerId</th>\n",
       "      <th>LastEditorUserId</th>\n",
       "      <th>LastEditDate</th>\n",
       "      <th>ParentId</th>\n",
       "      <th>OwnerDisplayName</th>\n",
       "      <th>CommunityOwnedDate</th>\n",
       "      <th>LastEditorDisplayName</th>\n",
       "    </tr>\n",
       "  </thead>\n",
       "  <tbody>\n",
       "    <tr>\n",
       "      <th>0</th>\n",
       "      <td>91080</td>\n",
       "      <td>2</td>\n",
       "      <td>2021-03-24T05:20:37.527</td>\n",
       "      <td>0</td>\n",
       "      <td>NaN</td>\n",
       "      <td>No declare ahead class importing packages You ...</td>\n",
       "      <td>86219.0</td>\n",
       "      <td>2021-03-24T05:20:37.527</td>\n",
       "      <td>NaN</td>\n",
       "      <td>NaN</td>\n",
       "      <td>...</td>\n",
       "      <td>NaN</td>\n",
       "      <td>NaN</td>\n",
       "      <td>CC BY-SA 4.0</td>\n",
       "      <td>NaN</td>\n",
       "      <td>NaN</td>\n",
       "      <td>NaN</td>\n",
       "      <td>91078.0</td>\n",
       "      <td>NaN</td>\n",
       "      <td>NaN</td>\n",
       "      <td>NaN</td>\n",
       "    </tr>\n",
       "    <tr>\n",
       "      <th>1</th>\n",
       "      <td>13386</td>\n",
       "      <td>2</td>\n",
       "      <td>2016-08-12T06:57:16.147</td>\n",
       "      <td>1</td>\n",
       "      <td>NaN</td>\n",
       "      <td>Have look ng dataset classification techniques...</td>\n",
       "      <td>21024.0</td>\n",
       "      <td>2016-08-12T06:57:16.147</td>\n",
       "      <td>NaN</td>\n",
       "      <td>NaN</td>\n",
       "      <td>...</td>\n",
       "      <td>NaN</td>\n",
       "      <td>NaN</td>\n",
       "      <td>CC BY-SA 3.0</td>\n",
       "      <td>NaN</td>\n",
       "      <td>-1.0</td>\n",
       "      <td>2017-04-13T12:50:41.230</td>\n",
       "      <td>13385.0</td>\n",
       "      <td>NaN</td>\n",
       "      <td>NaN</td>\n",
       "      <td>NaN</td>\n",
       "    </tr>\n",
       "    <tr>\n",
       "      <th>2</th>\n",
       "      <td>49322</td>\n",
       "      <td>2</td>\n",
       "      <td>2019-04-15T13:09:21.213</td>\n",
       "      <td>6</td>\n",
       "      <td>NaN</td>\n",
       "      <td>This requirement satisfied adding sufficient n...</td>\n",
       "      <td>67328.0</td>\n",
       "      <td>2019-04-15T13:09:21.213</td>\n",
       "      <td>NaN</td>\n",
       "      <td>NaN</td>\n",
       "      <td>...</td>\n",
       "      <td>NaN</td>\n",
       "      <td>NaN</td>\n",
       "      <td>CC BY-SA 4.0</td>\n",
       "      <td>NaN</td>\n",
       "      <td>NaN</td>\n",
       "      <td>NaN</td>\n",
       "      <td>49226.0</td>\n",
       "      <td>NaN</td>\n",
       "      <td>NaN</td>\n",
       "      <td>NaN</td>\n",
       "    </tr>\n",
       "    <tr>\n",
       "      <th>3</th>\n",
       "      <td>69347</td>\n",
       "      <td>2</td>\n",
       "      <td>2020-03-08T08:44:34.880</td>\n",
       "      <td>-1</td>\n",
       "      <td>NaN</td>\n",
       "      <td>I take really interested prediction new test s...</td>\n",
       "      <td>85145.0</td>\n",
       "      <td>2020-03-08T09:00:53.847</td>\n",
       "      <td>NaN</td>\n",
       "      <td>NaN</td>\n",
       "      <td>...</td>\n",
       "      <td>NaN</td>\n",
       "      <td>NaN</td>\n",
       "      <td>CC BY-SA 4.0</td>\n",
       "      <td>NaN</td>\n",
       "      <td>85145.0</td>\n",
       "      <td>2020-03-08T09:00:53.847</td>\n",
       "      <td>69336.0</td>\n",
       "      <td>NaN</td>\n",
       "      <td>NaN</td>\n",
       "      <td>NaN</td>\n",
       "    </tr>\n",
       "    <tr>\n",
       "      <th>4</th>\n",
       "      <td>40816</td>\n",
       "      <td>2</td>\n",
       "      <td>2018-11-06T11:53:38.963</td>\n",
       "      <td>0</td>\n",
       "      <td>NaN</td>\n",
       "      <td>I would look memory use Spark I presume using ...</td>\n",
       "      <td>61765.0</td>\n",
       "      <td>2018-11-06T14:24:48.580</td>\n",
       "      <td>NaN</td>\n",
       "      <td>NaN</td>\n",
       "      <td>...</td>\n",
       "      <td>NaN</td>\n",
       "      <td>NaN</td>\n",
       "      <td>CC BY-SA 4.0</td>\n",
       "      <td>NaN</td>\n",
       "      <td>29575.0</td>\n",
       "      <td>2018-11-06T14:24:48.580</td>\n",
       "      <td>40130.0</td>\n",
       "      <td>NaN</td>\n",
       "      <td>NaN</td>\n",
       "      <td>NaN</td>\n",
       "    </tr>\n",
       "  </tbody>\n",
       "</table>\n",
       "<p>5 rows × 22 columns</p>\n",
       "</div>"
      ],
      "text/plain": [
       "      Id  PostTypeId             CreationDate  Score  ViewCount  \\\n",
       "0  91080           2  2021-03-24T05:20:37.527      0        NaN   \n",
       "1  13386           2  2016-08-12T06:57:16.147      1        NaN   \n",
       "2  49322           2  2019-04-15T13:09:21.213      6        NaN   \n",
       "3  69347           2  2020-03-08T08:44:34.880     -1        NaN   \n",
       "4  40816           2  2018-11-06T11:53:38.963      0        NaN   \n",
       "\n",
       "                                                Body  OwnerUserId  \\\n",
       "0  No declare ahead class importing packages You ...      86219.0   \n",
       "1  Have look ng dataset classification techniques...      21024.0   \n",
       "2  This requirement satisfied adding sufficient n...      67328.0   \n",
       "3  I take really interested prediction new test s...      85145.0   \n",
       "4  I would look memory use Spark I presume using ...      61765.0   \n",
       "\n",
       "          LastActivityDate Title Tags  ...  FavoriteCount  ClosedDate  \\\n",
       "0  2021-03-24T05:20:37.527   NaN  NaN  ...            NaN         NaN   \n",
       "1  2016-08-12T06:57:16.147   NaN  NaN  ...            NaN         NaN   \n",
       "2  2019-04-15T13:09:21.213   NaN  NaN  ...            NaN         NaN   \n",
       "3  2020-03-08T09:00:53.847   NaN  NaN  ...            NaN         NaN   \n",
       "4  2018-11-06T14:24:48.580   NaN  NaN  ...            NaN         NaN   \n",
       "\n",
       "   ContentLicense AcceptedAnswerId LastEditorUserId             LastEditDate  \\\n",
       "0    CC BY-SA 4.0              NaN              NaN                      NaN   \n",
       "1    CC BY-SA 3.0              NaN             -1.0  2017-04-13T12:50:41.230   \n",
       "2    CC BY-SA 4.0              NaN              NaN                      NaN   \n",
       "3    CC BY-SA 4.0              NaN          85145.0  2020-03-08T09:00:53.847   \n",
       "4    CC BY-SA 4.0              NaN          29575.0  2018-11-06T14:24:48.580   \n",
       "\n",
       "   ParentId OwnerDisplayName  CommunityOwnedDate LastEditorDisplayName  \n",
       "0   91078.0              NaN                 NaN                   NaN  \n",
       "1   13385.0              NaN                 NaN                   NaN  \n",
       "2   49226.0              NaN                 NaN                   NaN  \n",
       "3   69336.0              NaN                 NaN                   NaN  \n",
       "4   40130.0              NaN                 NaN                   NaN  \n",
       "\n",
       "[5 rows x 22 columns]"
      ]
     },
     "execution_count": 34,
     "metadata": {},
     "output_type": "execute_result"
    }
   ],
   "source": [
    "df.head()"
   ]
  },
  {
   "cell_type": "code",
   "execution_count": null,
   "metadata": {
    "execution": {
     "iopub.execute_input": "2022-08-13T13:38:16.672320Z",
     "iopub.status.busy": "2022-08-13T13:38:16.671725Z",
     "iopub.status.idle": "2022-08-13T13:38:17.294045Z",
     "shell.execute_reply": "2022-08-13T13:38:17.292961Z",
     "shell.execute_reply.started": "2022-08-13T13:38:16.672293Z"
    },
    "id": "82nDSIikO5VN",
    "outputId": "26673816-f5eb-4dd2-b28c-ab4313f51491"
   },
   "outputs": [
    {
     "name": "stdout",
     "output_type": "stream",
     "text": [
      "['No declare ahead class importing packages You declare seed numpy tensorflow '\n",
      " 'separately For details read blog https machinelearningmastery com '\n",
      " 'reproducible results neural networks keras rel nofollow noreferrer https '\n",
      " 'machinelearningmastery com reproducible results neural networks keras']\n"
     ]
    }
   ],
   "source": [
    "# Convert to list\n",
    "df['Body']= df['Body'].apply(str)\n",
    "\n",
    "data = df.Body.values.tolist()\n",
    "\n",
    "# Remove Emails\n",
    "data = [re.sub('\\S*@\\S*\\s?', '', sent) for sent in data]\n",
    "\n",
    "# Remove new line characters\n",
    "data = [re.sub('\\s+', ' ', sent) for sent in data]\n",
    "\n",
    "# Remove distracting single quotes\n",
    "data = [re.sub(\"\\'\", \"\", sent) for sent in data]\n",
    "\n",
    "pprint(data[:1])"
   ]
  },
  {
   "cell_type": "code",
   "execution_count": null,
   "metadata": {
    "execution": {
     "iopub.execute_input": "2022-08-13T13:38:19.130174Z",
     "iopub.status.busy": "2022-08-13T13:38:19.129523Z",
     "iopub.status.idle": "2022-08-13T13:38:22.126926Z",
     "shell.execute_reply": "2022-08-13T13:38:22.125889Z",
     "shell.execute_reply.started": "2022-08-13T13:38:19.130121Z"
    },
    "id": "YU-KAxhnO5VO",
    "outputId": "8da3048a-25ea-4b27-c803-166b74d82253"
   },
   "outputs": [
    {
     "name": "stdout",
     "output_type": "stream",
     "text": [
      "[['no', 'declare', 'ahead', 'class', 'importing', 'packages', 'you', 'declare', 'seed', 'numpy', 'tensorflow', 'separately', 'for', 'details', 'read', 'blog', 'https', 'com', 'reproducible', 'results', 'neural', 'networks', 'keras', 'rel', 'nofollow', 'noreferrer', 'https', 'com', 'reproducible', 'results', 'neural', 'networks', 'keras']]\n"
     ]
    }
   ],
   "source": [
    "def sent_to_words(sentences):\n",
    "    for sentence in sentences:\n",
    "        yield(gensim.utils.simple_preprocess(str(sentence), deacc=True))  # deacc=True removes punctuations\n",
    "\n",
    "data_words = list(sent_to_words(data))\n",
    "\n",
    "print(data_words[:1])"
   ]
  },
  {
   "cell_type": "code",
   "execution_count": null,
   "metadata": {
    "execution": {
     "iopub.execute_input": "2022-08-13T13:38:22.128768Z",
     "iopub.status.busy": "2022-08-13T13:38:22.128518Z",
     "iopub.status.idle": "2022-08-13T13:38:22.878943Z",
     "shell.execute_reply": "2022-08-13T13:38:22.877878Z",
     "shell.execute_reply.started": "2022-08-13T13:38:22.128745Z"
    },
    "id": "SZQB-KcpO5VO"
   },
   "outputs": [],
   "source": [
    "import spacy\n",
    "nlp = spacy.load('en_core_web_sm')"
   ]
  },
  {
   "cell_type": "code",
   "execution_count": null,
   "metadata": {
    "execution": {
     "iopub.execute_input": "2022-08-13T13:38:25.239880Z",
     "iopub.status.busy": "2022-08-13T13:38:25.239547Z",
     "iopub.status.idle": "2022-08-13T13:38:25.245636Z",
     "shell.execute_reply": "2022-08-13T13:38:25.244973Z",
     "shell.execute_reply.started": "2022-08-13T13:38:25.239855Z"
    },
    "id": "e3hR4qH4O5VO",
    "outputId": "3b9a97f4-9559-4053-ceae-7151d8592a99"
   },
   "outputs": [
    {
     "data": {
      "text/plain": [
       "['ner', 'parser']"
      ]
     },
     "execution_count": 38,
     "metadata": {},
     "output_type": "execute_result"
    }
   ],
   "source": [
    "nlp.disable_pipes('ner', 'parser')"
   ]
  },
  {
   "cell_type": "code",
   "execution_count": null,
   "metadata": {
    "execution": {
     "iopub.execute_input": "2022-08-13T13:38:27.678075Z",
     "iopub.status.busy": "2022-08-13T13:38:27.677470Z",
     "iopub.status.idle": "2022-08-13T13:39:53.328922Z",
     "shell.execute_reply": "2022-08-13T13:39:53.327817Z",
     "shell.execute_reply.started": "2022-08-13T13:38:27.678049Z"
    },
    "id": "b1n831B3O5VO"
   },
   "outputs": [],
   "source": [
    "# Build the bigram and trigram models\n",
    "bigram = gensim.models.Phrases(data_words, min_count=10, threshold=100) # higher threshold fewer phrases.\n",
    "trigram = gensim.models.Phrases(bigram[data_words], threshold=100)  \n",
    "bigram_mod = gensim.models.phrases.Phraser(bigram)\n",
    "trigram_mod = gensim.models.phrases.Phraser(trigram)\n",
    "\n",
    "# !python3 -m spacy download en  # run in terminal once\n",
    "def process_words(texts, stop_words=stop_words, allowed_postags=['NOUN', 'ADJ', 'VERB', 'ADV']):\n",
    "    \"\"\"Remove Stopwords, Form Bigrams, Trigrams and Lemmatization\"\"\"\n",
    "    texts = [[word for word in simple_preprocess(str(doc)) if word not in stop_words] for doc in texts]\n",
    "    texts = [bigram_mod[doc] for doc in texts]\n",
    "    texts = [trigram_mod[bigram_mod[doc]] for doc in texts]\n",
    "    texts_out = []\n",
    "    #nlp = spacy.load('en', disable=['parser', 'ner'])\n",
    "    for sent in texts:\n",
    "        doc = nlp(\" \".join(sent)) \n",
    "        texts_out.append([token.lemma_ for token in doc if token.pos_ in allowed_postags])\n",
    "    # remove stopwords once more after lemmatization\n",
    "    texts_out = [[word for word in simple_preprocess(str(doc)) if word not in stop_words] for doc in texts_out]    \n",
    "    return texts_out\n",
    "\n",
    "data_ready = process_words(data_words)  # processed Text Data!"
   ]
  },
  {
   "cell_type": "code",
   "execution_count": null,
   "metadata": {
    "execution": {
     "iopub.execute_input": "2022-08-13T13:39:53.330933Z",
     "iopub.status.busy": "2022-08-13T13:39:53.330662Z",
     "iopub.status.idle": "2022-08-13T13:39:53.338427Z",
     "shell.execute_reply": "2022-08-13T13:39:53.336648Z",
     "shell.execute_reply.started": "2022-08-13T13:39:53.330910Z"
    },
    "id": "bB6R2blbO5VP",
    "outputId": "7f98ecbf-c68d-43d5-aac4-a28adad7a22d"
   },
   "outputs": [
    {
     "name": "stdout",
     "output_type": "stream",
     "text": [
      "['com',\n",
      " 'question',\n",
      " 'implement',\n",
      " 'simple',\n",
      " 'linear',\n",
      " 'regression',\n",
      " 'neural_network',\n",
      " 'code',\n",
      " 'put',\n",
      " 'part',\n",
      " 'parameter',\n",
      " 'list',\n",
      " 'error',\n",
      " 'indicate',\n",
      " 'first',\n",
      " 'member',\n",
      " 'list',\n",
      " 'put',\n",
      " 'first',\n",
      " 'row',\n",
      " 'second',\n",
      " 'one',\n",
      " 'model',\n",
      " 'import',\n",
      " 'sequential',\n",
      " 'layer',\n",
      " 'import',\n",
      " 'dense',\n",
      " 'kera',\n",
      " 'import',\n",
      " 'optimizer',\n",
      " 'generate',\n",
      " 'dummy',\n",
      " 'datum',\n",
      " 'datum',\n",
      " 'define',\n",
      " 'model',\n",
      " 'baseline',\n",
      " 'model',\n",
      " 'model',\n",
      " 'sequential',\n",
      " 'model',\n",
      " 'add',\n",
      " 'optimizer',\n",
      " 'sgd',\n",
      " 'sgd',\n",
      " 'loss',\n",
      " 'mean_square',\n",
      " 'error',\n",
      " 'metric',\n",
      " 'accuracy',\n",
      " 'return',\n",
      " 'predict',\n",
      " 'unsuccessful',\n",
      " 'cause',\n",
      " 'error',\n",
      " 'less',\n",
      " 'argoment',\n",
      " 'expect',\n",
      " 'blockquote',\n",
      " 'valueerror',\n",
      " 'error',\n",
      " 'check',\n",
      " 'model',\n",
      " 'input',\n",
      " 'list',\n",
      " 'numpy_array',\n",
      " 'pass',\n",
      " 'model',\n",
      " 'size',\n",
      " 'model',\n",
      " 'expect',\n",
      " 'expect',\n",
      " 'array',\n",
      " 'instead',\n",
      " 'follow',\n",
      " 'list',\n",
      " 'array']\n"
     ]
    }
   ],
   "source": [
    "pprint(data_ready[80])"
   ]
  },
  {
   "cell_type": "code",
   "execution_count": null,
   "metadata": {
    "execution": {
     "iopub.execute_input": "2022-08-13T13:40:03.943091Z",
     "iopub.status.busy": "2022-08-13T13:40:03.942135Z",
     "iopub.status.idle": "2022-08-13T13:40:05.371922Z",
     "shell.execute_reply": "2022-08-13T13:40:05.370887Z",
     "shell.execute_reply.started": "2022-08-13T13:40:03.943064Z"
    },
    "id": "bGApGfSbO5VP"
   },
   "outputs": [],
   "source": [
    "# Create Dictionary\n",
    "id2word = corpora.Dictionary(data_ready)\n",
    "\n",
    "# Create Corpus\n",
    "texts = data_ready\n",
    "\n",
    "# Term Document Frequency\n",
    "corpus = [id2word.doc2bow(text) for text in texts]\n",
    "\n"
   ]
  },
  {
   "cell_type": "code",
   "execution_count": null,
   "metadata": {
    "execution": {
     "iopub.execute_input": "2022-08-13T13:40:07.402064Z",
     "iopub.status.busy": "2022-08-13T13:40:07.401509Z",
     "iopub.status.idle": "2022-08-13T13:40:07.410461Z",
     "shell.execute_reply": "2022-08-13T13:40:07.409713Z",
     "shell.execute_reply.started": "2022-08-13T13:40:07.402037Z"
    },
    "id": "XsO_zhFVO5VP"
   },
   "outputs": [],
   "source": [
    "def compute_coherence_values_LDA(dictionary, corpus, texts, limit, start=2, step=3):\n",
    "    \"\"\"\n",
    "    Compute c_v coherence for various number of topics\n",
    "\n",
    "    Parameters:\n",
    "    ----------\n",
    "    dictionary : Gensim dictionary\n",
    "    corpus : Gensim corpus\n",
    "    texts : List of input texts\n",
    "    limit : Max num of topics\n",
    "\n",
    "    Returns:\n",
    "    -------\n",
    "    model_list : List of LDA topic models\n",
    "    coherence_values : Coherence values corresponding to the LDA model with respective number of topics\n",
    "    \"\"\"\n",
    "    coherence_values = []\n",
    "    model_list = []\n",
    "    for num_topics in range(start, limit, step):\n",
    "        model = gensim.models.ldamodel.LdaModel(corpus=corpus,\n",
    "                                           id2word=id2word,\n",
    "                                           num_topics=num_topics, \n",
    "                                           random_state=100,\n",
    "                                           update_every=1,\n",
    "                                           chunksize=100,\n",
    "                                           passes=10,\n",
    "                                           alpha='auto',\n",
    "                                           per_word_topics=True)\n",
    "        #gensim.models.wrappers.LdaMallet(mallet_path, corpus=corpus, num_topics=num_topics, id2word=id2word)\n",
    "        model_list.append(model)\n",
    "        coherencemodel = CoherenceModel(model=model, texts=texts, dictionary=dictionary, coherence='c_v')\n",
    "        coherence_values.append(coherencemodel.get_coherence())\n",
    "\n",
    "    return model_list, coherence_values"
   ]
  },
  {
   "cell_type": "code",
   "execution_count": null,
   "metadata": {
    "execution": {
     "iopub.execute_input": "2022-08-13T13:40:13.845255Z",
     "iopub.status.busy": "2022-08-13T13:40:13.844919Z",
     "iopub.status.idle": "2022-08-13T13:45:07.613813Z",
     "shell.execute_reply": "2022-08-13T13:45:07.611997Z",
     "shell.execute_reply.started": "2022-08-13T13:40:13.845230Z"
    },
    "id": "u2scaJSJO5VQ"
   },
   "outputs": [],
   "source": [
    "model_list, coherence_values = compute_coherence_values_LDA(dictionary=id2word, corpus=corpus, texts=data_ready, start=3, limit=10, step=1)"
   ]
  },
  {
   "cell_type": "code",
   "execution_count": null,
   "metadata": {
    "execution": {
     "iopub.execute_input": "2022-08-13T13:49:09.234968Z",
     "iopub.status.busy": "2022-08-13T13:49:09.232307Z",
     "iopub.status.idle": "2022-08-13T13:49:09.390688Z",
     "shell.execute_reply": "2022-08-13T13:49:09.389967Z",
     "shell.execute_reply.started": "2022-08-13T13:49:09.234937Z"
    },
    "id": "MISjtJIvO5VQ",
    "outputId": "f80c453e-5d76-4c62-82d1-7d1162447564"
   },
   "outputs": [
    {
     "data": {
      "image/png": "[encoded data removed]",
      "text/plain": [
       "<Figure size 432x288 with 1 Axes>"
      ]
     },
     "metadata": {
      "needs_background": "light"
     },
     "output_type": "display_data"
    }
   ],
   "source": [
    "limit=10; start=3; step=1;\n",
    "x = range(start, limit, step)\n",
    "plt.plot(x, coherence_values)\n",
    "plt.xlabel(\"Num Topics\")\n",
    "plt.ylabel(\"Coherence score\")\n",
    "plt.legend((\"coherence_values\"), loc='best')\n",
    "plt.show()"
   ]
  },
  {
   "cell_type": "code",
   "execution_count": null,
   "metadata": {
    "execution": {
     "iopub.execute_input": "2022-08-13T13:49:33.182536Z",
     "iopub.status.busy": "2022-08-13T13:49:33.182195Z",
     "iopub.status.idle": "2022-08-13T13:49:33.189323Z",
     "shell.execute_reply": "2022-08-13T13:49:33.187662Z",
     "shell.execute_reply.started": "2022-08-13T13:49:33.182512Z"
    },
    "id": "XZACgWzUO5VQ",
    "outputId": "cc2c3c4b-186c-43ae-c8eb-30431d816a06"
   },
   "outputs": [
    {
     "name": "stdout",
     "output_type": "stream",
     "text": [
      "Num Topics = 3  has Coherence Value of 0.4823\n",
      "Num Topics = 4  has Coherence Value of 0.5025\n",
      "Num Topics = 5  has Coherence Value of 0.4796\n",
      "Num Topics = 6  has Coherence Value of 0.4786\n",
      "Num Topics = 7  has Coherence Value of 0.4959\n",
      "Num Topics = 8  has Coherence Value of 0.4796\n",
      "Num Topics = 9  has Coherence Value of 0.4659\n"
     ]
    }
   ],
   "source": [
    "# Print the coherence scores\n",
    "for m, cv in zip(x, coherence_values):\n",
    "    print(\"Num Topics =\", m, \" has Coherence Value of\", round(cv, 4))"
   ]
  },
  {
   "cell_type": "code",
   "execution_count": null,
   "metadata": {
    "execution": {
     "iopub.execute_input": "2022-08-13T13:51:27.066486Z",
     "iopub.status.busy": "2022-08-13T13:51:27.065897Z",
     "iopub.status.idle": "2022-08-13T13:51:28.275348Z",
     "shell.execute_reply": "2022-08-13T13:51:28.274294Z",
     "shell.execute_reply.started": "2022-08-13T13:51:27.066458Z"
    },
    "id": "5Wy4MAJ9O5VQ",
    "outputId": "d2a77192-07ad-4120-99b1-847737b09e08"
   },
   "outputs": [
    {
     "data": {
      "text/html": [
       "<div>\n",
       "<style scoped>\n",
       "    .dataframe tbody tr th:only-of-type {\n",
       "        vertical-align: middle;\n",
       "    }\n",
       "\n",
       "    .dataframe tbody tr th {\n",
       "        vertical-align: top;\n",
       "    }\n",
       "\n",
       "    .dataframe thead th {\n",
       "        text-align: right;\n",
       "    }\n",
       "</style>\n",
       "<table border=\"1\" class=\"dataframe\">\n",
       "  <thead>\n",
       "    <tr style=\"text-align: right;\">\n",
       "      <th></th>\n",
       "      <th>Id</th>\n",
       "      <th>PostTypeId</th>\n",
       "      <th>CreationDate</th>\n",
       "      <th>Score</th>\n",
       "      <th>ViewCount</th>\n",
       "      <th>Body</th>\n",
       "      <th>OwnerUserId</th>\n",
       "      <th>LastActivityDate</th>\n",
       "      <th>Title</th>\n",
       "      <th>Tags</th>\n",
       "      <th>...</th>\n",
       "      <th>FavoriteCount</th>\n",
       "      <th>ClosedDate</th>\n",
       "      <th>ContentLicense</th>\n",
       "      <th>AcceptedAnswerId</th>\n",
       "      <th>LastEditorUserId</th>\n",
       "      <th>LastEditDate</th>\n",
       "      <th>ParentId</th>\n",
       "      <th>OwnerDisplayName</th>\n",
       "      <th>CommunityOwnedDate</th>\n",
       "      <th>LastEditorDisplayName</th>\n",
       "    </tr>\n",
       "  </thead>\n",
       "  <tbody>\n",
       "    <tr>\n",
       "      <th>0</th>\n",
       "      <td>5</td>\n",
       "      <td>1</td>\n",
       "      <td>2014-05-13T23:58:30.457</td>\n",
       "      <td>9</td>\n",
       "      <td>820.0</td>\n",
       "      <td>&lt;p&gt;I've always been interested in machine lear...</td>\n",
       "      <td>5.0</td>\n",
       "      <td>2014-05-14T00:36:31.077</td>\n",
       "      <td>How can I do simple machine learning without h...</td>\n",
       "      <td>&lt;machine-learning&gt;</td>\n",
       "      <td>...</td>\n",
       "      <td>1.0</td>\n",
       "      <td>2014-05-14T14:40:25.950</td>\n",
       "      <td>CC BY-SA 3.0</td>\n",
       "      <td>NaN</td>\n",
       "      <td>NaN</td>\n",
       "      <td>NaN</td>\n",
       "      <td>NaN</td>\n",
       "      <td>NaN</td>\n",
       "      <td>NaN</td>\n",
       "      <td>NaN</td>\n",
       "    </tr>\n",
       "    <tr>\n",
       "      <th>1</th>\n",
       "      <td>7</td>\n",
       "      <td>1</td>\n",
       "      <td>2014-05-14T00:11:06.457</td>\n",
       "      <td>4</td>\n",
       "      <td>462.0</td>\n",
       "      <td>&lt;p&gt;As a researcher and instructor, I'm looking...</td>\n",
       "      <td>36.0</td>\n",
       "      <td>2014-05-16T13:45:00.237</td>\n",
       "      <td>What open-source books (or other materials) pr...</td>\n",
       "      <td>&lt;education&gt;&lt;open-source&gt;</td>\n",
       "      <td>...</td>\n",
       "      <td>1.0</td>\n",
       "      <td>2014-05-14T08:40:54.950</td>\n",
       "      <td>CC BY-SA 3.0</td>\n",
       "      <td>10.0</td>\n",
       "      <td>97.0</td>\n",
       "      <td>2014-05-16T13:45:00.237</td>\n",
       "      <td>NaN</td>\n",
       "      <td>NaN</td>\n",
       "      <td>NaN</td>\n",
       "      <td>NaN</td>\n",
       "    </tr>\n",
       "    <tr>\n",
       "      <th>2</th>\n",
       "      <td>9</td>\n",
       "      <td>2</td>\n",
       "      <td>2014-05-14T00:36:31.077</td>\n",
       "      <td>5</td>\n",
       "      <td>NaN</td>\n",
       "      <td>&lt;p&gt;Not sure if this fits the scope of this SE,...</td>\n",
       "      <td>51.0</td>\n",
       "      <td>2014-05-14T00:36:31.077</td>\n",
       "      <td>NaN</td>\n",
       "      <td>NaN</td>\n",
       "      <td>...</td>\n",
       "      <td>NaN</td>\n",
       "      <td>NaN</td>\n",
       "      <td>CC BY-SA 3.0</td>\n",
       "      <td>NaN</td>\n",
       "      <td>NaN</td>\n",
       "      <td>NaN</td>\n",
       "      <td>5.0</td>\n",
       "      <td>NaN</td>\n",
       "      <td>NaN</td>\n",
       "      <td>NaN</td>\n",
       "    </tr>\n",
       "    <tr>\n",
       "      <th>3</th>\n",
       "      <td>10</td>\n",
       "      <td>2</td>\n",
       "      <td>2014-05-14T00:53:43.273</td>\n",
       "      <td>13</td>\n",
       "      <td>NaN</td>\n",
       "      <td>&lt;p&gt;One book that's freely available is \"The El...</td>\n",
       "      <td>22.0</td>\n",
       "      <td>2014-05-14T00:53:43.273</td>\n",
       "      <td>NaN</td>\n",
       "      <td>NaN</td>\n",
       "      <td>...</td>\n",
       "      <td>NaN</td>\n",
       "      <td>NaN</td>\n",
       "      <td>CC BY-SA 3.0</td>\n",
       "      <td>NaN</td>\n",
       "      <td>NaN</td>\n",
       "      <td>NaN</td>\n",
       "      <td>7.0</td>\n",
       "      <td>NaN</td>\n",
       "      <td>NaN</td>\n",
       "      <td>NaN</td>\n",
       "    </tr>\n",
       "    <tr>\n",
       "      <th>4</th>\n",
       "      <td>14</td>\n",
       "      <td>1</td>\n",
       "      <td>2014-05-14T01:25:59.677</td>\n",
       "      <td>25</td>\n",
       "      <td>1876.0</td>\n",
       "      <td>&lt;p&gt;I am sure data science as will be discussed...</td>\n",
       "      <td>66.0</td>\n",
       "      <td>2020-08-16T13:01:33.543</td>\n",
       "      <td>Is Data Science the Same as Data Mining?</td>\n",
       "      <td>&lt;data-mining&gt;&lt;definitions&gt;</td>\n",
       "      <td>...</td>\n",
       "      <td>6.0</td>\n",
       "      <td>NaN</td>\n",
       "      <td>CC BY-SA 3.0</td>\n",
       "      <td>29.0</td>\n",
       "      <td>322.0</td>\n",
       "      <td>2014-06-17T16:17:20.473</td>\n",
       "      <td>NaN</td>\n",
       "      <td>NaN</td>\n",
       "      <td>NaN</td>\n",
       "      <td>NaN</td>\n",
       "    </tr>\n",
       "  </tbody>\n",
       "</table>\n",
       "<p>5 rows × 22 columns</p>\n",
       "</div>"
      ],
      "text/plain": [
       "   Id  PostTypeId             CreationDate  Score  ViewCount  \\\n",
       "0   5           1  2014-05-13T23:58:30.457      9      820.0   \n",
       "1   7           1  2014-05-14T00:11:06.457      4      462.0   \n",
       "2   9           2  2014-05-14T00:36:31.077      5        NaN   \n",
       "3  10           2  2014-05-14T00:53:43.273     13        NaN   \n",
       "4  14           1  2014-05-14T01:25:59.677     25     1876.0   \n",
       "\n",
       "                                                Body  OwnerUserId  \\\n",
       "0  <p>I've always been interested in machine lear...          5.0   \n",
       "1  <p>As a researcher and instructor, I'm looking...         36.0   \n",
       "2  <p>Not sure if this fits the scope of this SE,...         51.0   \n",
       "3  <p>One book that's freely available is \"The El...         22.0   \n",
       "4  <p>I am sure data science as will be discussed...         66.0   \n",
       "\n",
       "          LastActivityDate                                              Title  \\\n",
       "0  2014-05-14T00:36:31.077  How can I do simple machine learning without h...   \n",
       "1  2014-05-16T13:45:00.237  What open-source books (or other materials) pr...   \n",
       "2  2014-05-14T00:36:31.077                                                NaN   \n",
       "3  2014-05-14T00:53:43.273                                                NaN   \n",
       "4  2020-08-16T13:01:33.543           Is Data Science the Same as Data Mining?   \n",
       "\n",
       "                         Tags  ...  FavoriteCount               ClosedDate  \\\n",
       "0          <machine-learning>  ...            1.0  2014-05-14T14:40:25.950   \n",
       "1    <education><open-source>  ...            1.0  2014-05-14T08:40:54.950   \n",
       "2                         NaN  ...            NaN                      NaN   \n",
       "3                         NaN  ...            NaN                      NaN   \n",
       "4  <data-mining><definitions>  ...            6.0                      NaN   \n",
       "\n",
       "   ContentLicense AcceptedAnswerId LastEditorUserId             LastEditDate  \\\n",
       "0    CC BY-SA 3.0              NaN              NaN                      NaN   \n",
       "1    CC BY-SA 3.0             10.0             97.0  2014-05-16T13:45:00.237   \n",
       "2    CC BY-SA 3.0              NaN              NaN                      NaN   \n",
       "3    CC BY-SA 3.0              NaN              NaN                      NaN   \n",
       "4    CC BY-SA 3.0             29.0            322.0  2014-06-17T16:17:20.473   \n",
       "\n",
       "   ParentId OwnerDisplayName  CommunityOwnedDate LastEditorDisplayName  \n",
       "0       NaN              NaN                 NaN                   NaN  \n",
       "1       NaN              NaN                 NaN                   NaN  \n",
       "2       5.0              NaN                 NaN                   NaN  \n",
       "3       7.0              NaN                 NaN                   NaN  \n",
       "4       NaN              NaN                 NaN                   NaN  \n",
       "\n",
       "[5 rows x 22 columns]"
      ]
     },
     "execution_count": 59,
     "metadata": {},
     "output_type": "execute_result"
    }
   ],
   "source": [
    "df = pd.read_csv('../input/data-science-posts/df.csv')\n",
    "df.head()"
   ]
  },
  {
   "cell_type": "code",
   "execution_count": null,
   "metadata": {
    "execution": {
     "iopub.execute_input": "2022-08-13T13:51:28.277282Z",
     "iopub.status.busy": "2022-08-13T13:51:28.276998Z",
     "iopub.status.idle": "2022-08-13T13:51:28.363624Z",
     "shell.execute_reply": "2022-08-13T13:51:28.362613Z",
     "shell.execute_reply.started": "2022-08-13T13:51:28.277258Z"
    },
    "id": "ruiChtYlO5VQ"
   },
   "outputs": [],
   "source": [
    "df = df.drop_duplicates(subset=['Body'], keep='first')"
   ]
  },
  {
   "cell_type": "code",
   "execution_count": null,
   "metadata": {
    "execution": {
     "iopub.execute_input": "2022-08-13T13:51:28.365119Z",
     "iopub.status.busy": "2022-08-13T13:51:28.364813Z",
     "iopub.status.idle": "2022-08-13T13:51:28.370677Z",
     "shell.execute_reply": "2022-08-13T13:51:28.369626Z",
     "shell.execute_reply.started": "2022-08-13T13:51:28.365085Z"
    },
    "id": "d4gu5YfPO5VQ"
   },
   "outputs": [],
   "source": [
    "df.reset_index(drop=True, inplace=True)"
   ]
  },
  {
   "cell_type": "code",
   "execution_count": null,
   "metadata": {
    "execution": {
     "iopub.execute_input": "2022-08-13T13:53:25.205049Z",
     "iopub.status.busy": "2022-08-13T13:53:25.204559Z",
     "iopub.status.idle": "2022-08-13T13:53:25.210768Z",
     "shell.execute_reply": "2022-08-13T13:53:25.209727Z",
     "shell.execute_reply.started": "2022-08-13T13:53:25.205023Z"
    },
    "id": "Lb-0hjNoO5VR",
    "outputId": "64d338ff-a8d2-4a7f-e957-43f55be99343"
   },
   "outputs": [
    {
     "data": {
      "text/plain": [
       "(68940, 22)"
      ]
     },
     "execution_count": 65,
     "metadata": {},
     "output_type": "execute_result"
    }
   ],
   "source": [
    "df.shape"
   ]
  },
  {
   "cell_type": "code",
   "execution_count": null,
   "metadata": {
    "execution": {
     "iopub.execute_input": "2022-08-13T13:53:31.977209Z",
     "iopub.status.busy": "2022-08-13T13:53:31.976602Z",
     "iopub.status.idle": "2022-08-13T13:53:32.020302Z",
     "shell.execute_reply": "2022-08-13T13:53:32.018914Z",
     "shell.execute_reply.started": "2022-08-13T13:53:31.977174Z"
    },
    "id": "ndHnNGJnO5VR",
    "outputId": "c0055e60-44e6-4454-d05f-6cda2622c161"
   },
   "outputs": [
    {
     "data": {
      "text/plain": [
       "(68939, 22)"
      ]
     },
     "execution_count": 66,
     "metadata": {},
     "output_type": "execute_result"
    }
   ],
   "source": [
    "df.dropna(subset = [\"Body\"], inplace=True)\n",
    "df.shape"
   ]
  },
  {
   "cell_type": "code",
   "execution_count": null,
   "metadata": {
    "execution": {
     "iopub.execute_input": "2022-08-13T13:53:36.020928Z",
     "iopub.status.busy": "2022-08-13T13:53:36.020603Z",
     "iopub.status.idle": "2022-08-13T13:53:36.026359Z",
     "shell.execute_reply": "2022-08-13T13:53:36.025131Z",
     "shell.execute_reply.started": "2022-08-13T13:53:36.020902Z"
    },
    "id": "vLoJyZ2aO5VR"
   },
   "outputs": [],
   "source": [
    "df.reset_index(drop=True, inplace=True)"
   ]
  },
  {
   "cell_type": "code",
   "execution_count": null,
   "metadata": {
    "execution": {
     "iopub.execute_input": "2022-08-13T13:53:37.351429Z",
     "iopub.status.busy": "2022-08-13T13:53:37.349585Z",
     "iopub.status.idle": "2022-08-13T13:53:42.231599Z",
     "shell.execute_reply": "2022-08-13T13:53:42.230281Z",
     "shell.execute_reply.started": "2022-08-13T13:53:37.351387Z"
    },
    "id": "GkE6NVu8O5VR"
   },
   "outputs": [],
   "source": [
    "df['Body'] = df['Body'].apply(lambda x: remove_punctuations(x))\n"
   ]
  },
  {
   "cell_type": "code",
   "execution_count": null,
   "metadata": {
    "execution": {
     "iopub.execute_input": "2022-08-13T13:53:46.376435Z",
     "iopub.status.busy": "2022-08-13T13:53:46.376084Z",
     "iopub.status.idle": "2022-08-13T13:53:53.907659Z",
     "shell.execute_reply": "2022-08-13T13:53:53.906681Z",
     "shell.execute_reply.started": "2022-08-13T13:53:46.376410Z"
    },
    "id": "OAvIkDwYO5VR",
    "outputId": "b5ddde90-c13a-4343-8343-e97ace8a36ef"
   },
   "outputs": [
    {
     "name": "stderr",
     "output_type": "stream",
     "text": [
      "/opt/conda/lib/python3.7/site-packages/ipykernel_launcher.py:24: FutureWarning: The default value of regex will change from True to False in a future version.\n",
      "/opt/conda/lib/python3.7/site-packages/ipykernel_launcher.py:25: FutureWarning: The default value of regex will change from True to False in a future version.\n"
     ]
    }
   ],
   "source": [
    "df['Body'] = df['Body'].str.replace('<p><a href=',' ')\n",
    "df['Body'] = df['Body'].str.replace('</p>',' ')\n",
    "df['Body'] = df['Body'].str.replace('\\n',' ')\n",
    "df['Body'] = df['Body'].str.replace('<p>',' ')\n",
    "df['Body'] = df['Body'].str.replace('</a',' ')\n",
    "df['Body'] = df['Body'].str.replace('<a ',' ')\n",
    "\n",
    "df['Body'] = df['Body'].str.replace('>',' ')\n",
    "\n",
    "df['Body'] = df['Body'].str.replace('=',' ')\n",
    "df['Body'] = df['Body'].str.replace('href',' ')\n",
    "\n",
    "\n",
    "\n",
    "\n",
    "df['Body'].replace(r'…',' ',inplace=True, regex=True)\n",
    "df['Body'].replace(r'_',' ',inplace=True, regex=True)\n",
    "df['Body'].replace(r'\\\\\\)',' ',inplace=True, regex=True)\n",
    "df['Body'].replace(r'،',' ',inplace=True, regex=True)\n",
    "df['Body'].replace(r'\"',' ',inplace=True, regex=True)\n",
    "df['Body'].replace(r'-',' ',inplace=True, regex=True)\n",
    "df['Body'].replace(r'؛',' ',inplace=True, regex=True)\n",
    "df['Body'].replace(r'/',' ',inplace=True, regex=True)\n",
    "df['Body'] = df['Body'].str.replace('\\d+', ' ')\n",
    "df['Body'] = df['Body'].str.replace(' +',' ')\n",
    "df['Body'] = df['Body'].str.replace('RT',' ')\n",
    "df['Body'] = df['Body'].str.replace('#',' ')"
   ]
  },
  {
   "cell_type": "code",
   "execution_count": null,
   "metadata": {
    "execution": {
     "iopub.execute_input": "2022-08-13T13:53:57.894310Z",
     "iopub.status.busy": "2022-08-13T13:53:57.893085Z",
     "iopub.status.idle": "2022-08-13T13:54:23.825637Z",
     "shell.execute_reply": "2022-08-13T13:54:23.824517Z",
     "shell.execute_reply.started": "2022-08-13T13:53:57.894249Z"
    },
    "id": "lzPpqpqKO5VS"
   },
   "outputs": [],
   "source": [
    "from nltk.tokenize import RegexpTokenizer\n",
    "stop_en = stopwords.words('english')\n",
    "tokenizer = RegexpTokenizer(r'\\w+')\n",
    "after_stopwords = []\n",
    "\n",
    "for i in df[\"Body\"]:\n",
    "    tokens = tokenizer.tokenize(i)\n",
    "    #tagged_sent = i.split()\n",
    "    stopped_tokens = [w for w in tokens if w not in stop_en and w not in punctuations_list]\n",
    "    #stopped_tokens = [arabic_stemmer.light_stem(i) for i in stopped_tokens]\n",
    "    \n",
    "    #for words in tagged_sent:                           \n",
    "    #    chunks = [words for words in tagged_sent if not words in ar_stop]     \n",
    "        #chunks = [arabic_stemmer.light_stem(i) for i in chunks]\n",
    "\n",
    "    after_stopwords.append(' '.join(stopped_tokens))\n",
    "df['Body'] = after_stopwords"
   ]
  },
  {
   "cell_type": "code",
   "execution_count": null,
   "metadata": {
    "execution": {
     "iopub.execute_input": "2022-08-13T13:54:29.946825Z",
     "iopub.status.busy": "2022-08-13T13:54:29.946453Z",
     "iopub.status.idle": "2022-08-13T13:54:34.269083Z",
     "shell.execute_reply": "2022-08-13T13:54:34.268167Z",
     "shell.execute_reply.started": "2022-08-13T13:54:29.946797Z"
    },
    "id": "69KTrBc6O5VS",
    "outputId": "3382f561-5535-44e4-fd73-4422a76d9fdb"
   },
   "outputs": [
    {
     "name": "stdout",
     "output_type": "stream",
     "text": [
      "['I always interested machine learning I figure one thing starting simple '\n",
      " 'Hello World example I avoid hard coding behavior For example I wanted teach '\n",
      " 'bot avoid randomly placed obstacles I use relative motion obstacles move '\n",
      " 'around I want hard code say distance ruins whole point machine learning '\n",
      " 'Obviously randomly generating code would impractical could I']\n"
     ]
    }
   ],
   "source": [
    "# Convert to list\n",
    "df['Body']= df['Body'].apply(str)\n",
    "\n",
    "data = df.Body.values.tolist()\n",
    "\n",
    "# Remove Emails\n",
    "data = [re.sub('\\S*@\\S*\\s?', '', sent) for sent in data]\n",
    "\n",
    "# Remove new line characters\n",
    "data = [re.sub('\\s+', ' ', sent) for sent in data]\n",
    "\n",
    "# Remove distracting single quotes\n",
    "data = [re.sub(\"\\'\", \"\", sent) for sent in data]\n",
    "\n",
    "pprint(data[:1])"
   ]
  },
  {
   "cell_type": "code",
   "execution_count": null,
   "metadata": {
    "execution": {
     "iopub.execute_input": "2022-08-13T13:54:36.068133Z",
     "iopub.status.busy": "2022-08-13T13:54:36.067739Z",
     "iopub.status.idle": "2022-08-13T13:54:56.912360Z",
     "shell.execute_reply": "2022-08-13T13:54:56.911321Z",
     "shell.execute_reply.started": "2022-08-13T13:54:36.068099Z"
    },
    "id": "QQQ5PB1EO5VS",
    "outputId": "7ad6e272-cf05-4194-acdc-2f8e264bb22f"
   },
   "outputs": [
    {
     "name": "stdout",
     "output_type": "stream",
     "text": [
      "[['always', 'interested', 'machine', 'learning', 'figure', 'one', 'thing', 'starting', 'simple', 'hello', 'world', 'example', 'avoid', 'hard', 'coding', 'behavior', 'for', 'example', 'wanted', 'teach', 'bot', 'avoid', 'randomly', 'placed', 'obstacles', 'use', 'relative', 'motion', 'obstacles', 'move', 'around', 'want', 'hard', 'code', 'say', 'distance', 'ruins', 'whole', 'point', 'machine', 'learning', 'obviously', 'randomly', 'generating', 'code', 'would', 'impractical', 'could']]\n"
     ]
    }
   ],
   "source": [
    "data_words = list(sent_to_words(data))\n",
    "\n",
    "print(data_words[:1])"
   ]
  },
  {
   "cell_type": "code",
   "execution_count": null,
   "metadata": {
    "execution": {
     "iopub.execute_input": "2022-08-13T13:54:58.742632Z",
     "iopub.status.busy": "2022-08-13T13:54:58.742275Z",
     "iopub.status.idle": "2022-08-13T13:55:52.197826Z",
     "shell.execute_reply": "2022-08-13T13:55:52.196430Z",
     "shell.execute_reply.started": "2022-08-13T13:54:58.742607Z"
    },
    "id": "KV7_GiWNO5VT"
   },
   "outputs": [],
   "source": [
    "# Build the bigram and trigram models\n",
    "bigram = gensim.models.Phrases(data_words, min_count=30, threshold=200) # higher threshold fewer phrases.\n",
    "trigram = gensim.models.Phrases(bigram[data_words], threshold=150)  \n",
    "bigram_mod = gensim.models.phrases.Phraser(bigram)\n",
    "trigram_mod = gensim.models.phrases.Phraser(trigram)"
   ]
  },
  {
   "cell_type": "code",
   "execution_count": null,
   "metadata": {
    "execution": {
     "iopub.execute_input": "2022-08-13T13:56:03.421815Z",
     "iopub.status.busy": "2022-08-13T13:56:03.421464Z",
     "iopub.status.idle": "2022-08-13T14:04:39.659243Z",
     "shell.execute_reply": "2022-08-13T14:04:39.658411Z",
     "shell.execute_reply.started": "2022-08-13T13:56:03.421788Z"
    },
    "id": "BtYPTT8xO5VT"
   },
   "outputs": [],
   "source": [
    "data_ready = process_words(data_words)  # processed Text Data!"
   ]
  },
  {
   "cell_type": "code",
   "execution_count": null,
   "metadata": {
    "execution": {
     "iopub.execute_input": "2022-08-13T14:04:46.604892Z",
     "iopub.status.busy": "2022-08-13T14:04:46.603963Z",
     "iopub.status.idle": "2022-08-13T14:50:53.164387Z",
     "shell.execute_reply": "2022-08-13T14:50:53.163242Z",
     "shell.execute_reply.started": "2022-08-13T14:04:46.604866Z"
    },
    "id": "dxLKql6kO5VT",
    "outputId": "67d627a9-44fb-4a58-e62e-071a49c6b5ae"
   },
   "outputs": [
    {
     "name": "stdout",
     "output_type": "stream",
     "text": [
      "[(0,\n",
      "  '0.079*\"strong\" + 0.070*\"com\" + 0.062*\"https\" + 0.058*\"noreferrer\" + '\n",
      "  '0.057*\"rel\" + 0.047*\"quot\" + 0.043*\"stack\" + 0.039*\"style\" + 0.038*\"image\" '\n",
      "  '+ 0.037*\"predict\"'),\n",
      " (1,\n",
      "  '0.131*\"code\" + 0.043*\"pre\" + 0.028*\"score\" + 0.023*\"value\" + 0.018*\"add\" + '\n",
      "  '0.016*\"prediction\" + 0.016*\"metric\" + 0.014*\"import\" + 0.014*\"point\" + '\n",
      "  '0.014*\"error\"'),\n",
      " (2,\n",
      "  '0.190*\"train\" + 0.037*\"index\" + 0.035*\"batch\" + 0.030*\"list\" + 0.022*\"lstm\" '\n",
      "  '+ 0.019*\"last\" + 0.017*\"file\" + 0.017*\"data\" + 0.017*\"datum\" + '\n",
      "  '0.016*\"tensorflow\"'),\n",
      " (3,\n",
      "  '0.036*\"layer\" + 0.034*\"span\" + 0.033*\"container\" + 0.032*\"self\" + '\n",
      "  '0.031*\"input\" + 0.029*\"output\" + 0.026*\"png\" + 0.024*\"loss\" + 0.024*\"size\" '\n",
      "  '+ 0.023*\"word\"'),\n",
      " (4,\n",
      "  '0.095*\"class\" + 0.074*\"text\" + 0.050*\"math\" + 0.035*\"question\" + '\n",
      "  '0.017*\"align_center\" + 0.016*\"user\" + 0.014*\"name\" + 0.013*\"align_left\" + '\n",
      "  '0.012*\"data\" + 0.011*\"product\"'),\n",
      " (5,\n",
      "  '0.056*\"model\" + 0.029*\"datum\" + 0.024*\"test\" + 0.021*\"feature\" + '\n",
      "  '0.015*\"set\" + 0.013*\"training\" + 0.012*\"time\" + 0.011*\"value\" + '\n",
      "  '0.010*\"problem\" + 0.010*\"dataset\"')]\n"
     ]
    }
   ],
   "source": [
    "# Create Dictionary\n",
    "id2word = corpora.Dictionary(data_ready)\n",
    "\n",
    "# Create Corpus: Term Document Frequency\n",
    "corpus = [id2word.doc2bow(text) for text in data_ready]\n",
    "\n",
    "# Build LDA model\n",
    "lda_model = gensim.models.ldamodel.LdaModel(corpus=corpus,\n",
    "                                           id2word=id2word,\n",
    "                                           num_topics=6, \n",
    "                                           random_state=100,\n",
    "                                           update_every=1,\n",
    "                                           chunksize=10,\n",
    "                                           passes=10,\n",
    "                                           alpha='symmetric',\n",
    "                                           iterations=100,\n",
    "                                           per_word_topics=True)\n",
    "\n",
    "pprint(lda_model.print_topics())"
   ]
  },
  {
   "cell_type": "code",
   "execution_count": null,
   "metadata": {
    "execution": {
     "iopub.execute_input": "2022-08-13T14:51:06.556088Z",
     "iopub.status.busy": "2022-08-13T14:51:06.555158Z",
     "iopub.status.idle": "2022-08-13T14:56:55.819919Z",
     "shell.execute_reply": "2022-08-13T14:56:55.818979Z",
     "shell.execute_reply.started": "2022-08-13T14:51:06.556042Z"
    },
    "id": "qe2MjpNXO5VT",
    "outputId": "b0b73ded-1533-432c-f2c5-f20dd0df9b2e"
   },
   "outputs": [
    {
     "data": {
      "text/html": [
       "<div>\n",
       "<style scoped>\n",
       "    .dataframe tbody tr th:only-of-type {\n",
       "        vertical-align: middle;\n",
       "    }\n",
       "\n",
       "    .dataframe tbody tr th {\n",
       "        vertical-align: top;\n",
       "    }\n",
       "\n",
       "    .dataframe thead th {\n",
       "        text-align: right;\n",
       "    }\n",
       "</style>\n",
       "<table border=\"1\" class=\"dataframe\">\n",
       "  <thead>\n",
       "    <tr style=\"text-align: right;\">\n",
       "      <th></th>\n",
       "      <th>Document_No</th>\n",
       "      <th>Dominant_Topic</th>\n",
       "      <th>Topic_Perc_Contrib</th>\n",
       "      <th>Keywords</th>\n",
       "      <th>Text</th>\n",
       "    </tr>\n",
       "  </thead>\n",
       "  <tbody>\n",
       "    <tr>\n",
       "      <th>0</th>\n",
       "      <td>0</td>\n",
       "      <td>1.0</td>\n",
       "      <td>0.6460</td>\n",
       "      <td>code, pre, score, value, add, prediction, metr...</td>\n",
       "      <td>[always, interested, machine, learning, figure...</td>\n",
       "    </tr>\n",
       "    <tr>\n",
       "      <th>1</th>\n",
       "      <td>1</td>\n",
       "      <td>5.0</td>\n",
       "      <td>0.6069</td>\n",
       "      <td>model, datum, test, feature, set, training, ti...</td>\n",
       "      <td>[researcher, instructor, look, open_source, bo...</td>\n",
       "    </tr>\n",
       "    <tr>\n",
       "      <th>2</th>\n",
       "      <td>2</td>\n",
       "      <td>5.0</td>\n",
       "      <td>0.8420</td>\n",
       "      <td>model, datum, test, feature, set, training, ti...</td>\n",
       "      <td>[sure, fit, scope, answer, ai, approach, decid...</td>\n",
       "    </tr>\n",
       "    <tr>\n",
       "      <th>3</th>\n",
       "      <td>3</td>\n",
       "      <td>1.0</td>\n",
       "      <td>0.5778</td>\n",
       "      <td>code, pre, score, value, add, prediction, metr...</td>\n",
       "      <td>[book, element, statistical, learning, publish...</td>\n",
       "    </tr>\n",
       "    <tr>\n",
       "      <th>4</th>\n",
       "      <td>4</td>\n",
       "      <td>4.0</td>\n",
       "      <td>0.7125</td>\n",
       "      <td>class, text, math, question, align_center, use...</td>\n",
       "      <td>[sure, datum, science, discuss, forum, several...</td>\n",
       "    </tr>\n",
       "    <tr>\n",
       "      <th>5</th>\n",
       "      <td>5</td>\n",
       "      <td>3.0</td>\n",
       "      <td>0.6946</td>\n",
       "      <td>layer, span, container, self, input, output, p...</td>\n",
       "      <td>[situation, system, prefer, relative, non]</td>\n",
       "    </tr>\n",
       "    <tr>\n",
       "      <th>6</th>\n",
       "      <td>6</td>\n",
       "      <td>0.0</td>\n",
       "      <td>0.5668</td>\n",
       "      <td>strong, com, https, noreferrer, rel, quot, sta...</td>\n",
       "      <td>[libsvm, libsvm, train, datum, predict, classi...</td>\n",
       "    </tr>\n",
       "    <tr>\n",
       "      <th>7</th>\n",
       "      <td>7</td>\n",
       "      <td>0.0</td>\n",
       "      <td>0.8960</td>\n",
       "      <td>strong, com, https, noreferrer, rel, quot, sta...</td>\n",
       "      <td>[libsvm, rel, library, support, vector, classi...</td>\n",
       "    </tr>\n",
       "    <tr>\n",
       "      <th>8</th>\n",
       "      <td>8</td>\n",
       "      <td>5.0</td>\n",
       "      <td>0.9091</td>\n",
       "      <td>model, datum, test, feature, set, training, ti...</td>\n",
       "      <td>[people, term, big, datum, commercial, way, me...</td>\n",
       "    </tr>\n",
       "    <tr>\n",
       "      <th>9</th>\n",
       "      <td>9</td>\n",
       "      <td>5.0</td>\n",
       "      <td>0.8280</td>\n",
       "      <td>model, datum, test, feature, set, training, ti...</td>\n",
       "      <td>[create, social, network, application, elearne...</td>\n",
       "    </tr>\n",
       "  </tbody>\n",
       "</table>\n",
       "</div>"
      ],
      "text/plain": [
       "   Document_No  Dominant_Topic  Topic_Perc_Contrib  \\\n",
       "0            0             1.0              0.6460   \n",
       "1            1             5.0              0.6069   \n",
       "2            2             5.0              0.8420   \n",
       "3            3             1.0              0.5778   \n",
       "4            4             4.0              0.7125   \n",
       "5            5             3.0              0.6946   \n",
       "6            6             0.0              0.5668   \n",
       "7            7             0.0              0.8960   \n",
       "8            8             5.0              0.9091   \n",
       "9            9             5.0              0.8280   \n",
       "\n",
       "                                            Keywords  \\\n",
       "0  code, pre, score, value, add, prediction, metr...   \n",
       "1  model, datum, test, feature, set, training, ti...   \n",
       "2  model, datum, test, feature, set, training, ti...   \n",
       "3  code, pre, score, value, add, prediction, metr...   \n",
       "4  class, text, math, question, align_center, use...   \n",
       "5  layer, span, container, self, input, output, p...   \n",
       "6  strong, com, https, noreferrer, rel, quot, sta...   \n",
       "7  strong, com, https, noreferrer, rel, quot, sta...   \n",
       "8  model, datum, test, feature, set, training, ti...   \n",
       "9  model, datum, test, feature, set, training, ti...   \n",
       "\n",
       "                                                Text  \n",
       "0  [always, interested, machine, learning, figure...  \n",
       "1  [researcher, instructor, look, open_source, bo...  \n",
       "2  [sure, fit, scope, answer, ai, approach, decid...  \n",
       "3  [book, element, statistical, learning, publish...  \n",
       "4  [sure, datum, science, discuss, forum, several...  \n",
       "5         [situation, system, prefer, relative, non]  \n",
       "6  [libsvm, libsvm, train, datum, predict, classi...  \n",
       "7  [libsvm, rel, library, support, vector, classi...  \n",
       "8  [people, term, big, datum, commercial, way, me...  \n",
       "9  [create, social, network, application, elearne...  "
      ]
     },
     "execution_count": 76,
     "metadata": {},
     "output_type": "execute_result"
    }
   ],
   "source": [
    "def format_topics_sentences(ldamodel=None, corpus=corpus, texts=data):\n",
    "    # Init output\n",
    "    sent_topics_df = pd.DataFrame()\n",
    "\n",
    "    # Get main topic in each document\n",
    "    for i, row_list in enumerate(ldamodel[corpus]):\n",
    "        row = row_list[0] if ldamodel.per_word_topics else row_list            \n",
    "        # print(row)\n",
    "        row = sorted(row, key=lambda x: (x[1]), reverse=True)\n",
    "        # Get the Dominant topic, Perc Contribution and Keywords for each document\n",
    "        for j, (topic_num, prop_topic) in enumerate(row):\n",
    "            if j == 0:  # => dominant topic\n",
    "                wp = ldamodel.show_topic(topic_num)\n",
    "                topic_keywords = \", \".join([word for word, prop in wp])\n",
    "                sent_topics_df = sent_topics_df.append(pd.Series([int(topic_num), round(prop_topic,4), topic_keywords]), ignore_index=True)\n",
    "            else:\n",
    "                break\n",
    "    sent_topics_df.columns = ['Dominant_Topic', 'Perc_Contribution', 'Topic_Keywords']\n",
    "\n",
    "    # Add original text to the end of the output\n",
    "    contents = pd.Series(texts)\n",
    "    sent_topics_df = pd.concat([sent_topics_df, contents], axis=1)\n",
    "    return(sent_topics_df)\n",
    "\n",
    "\n",
    "df_topic_sents_keywords = format_topics_sentences(ldamodel=lda_model, corpus=corpus, texts=data_ready)\n",
    "\n",
    "# Format\n",
    "df_dominant_topic = df_topic_sents_keywords.reset_index()\n",
    "df_dominant_topic.columns = ['Document_No', 'Dominant_Topic', 'Topic_Perc_Contrib', 'Keywords', 'Text']\n",
    "df_dominant_topic.head(10)"
   ]
  },
  {
   "cell_type": "code",
   "execution_count": null,
   "metadata": {
    "execution": {
     "iopub.execute_input": "2022-08-13T14:57:31.725288Z",
     "iopub.status.busy": "2022-08-13T14:57:31.724695Z",
     "iopub.status.idle": "2022-08-13T14:57:31.732053Z",
     "shell.execute_reply": "2022-08-13T14:57:31.730754Z",
     "shell.execute_reply.started": "2022-08-13T14:57:31.725259Z"
    },
    "id": "hXK-C6EXO5VU",
    "outputId": "ec72e068-9eee-4204-c968-5facbdc70c40"
   },
   "outputs": [
    {
     "data": {
      "text/plain": [
       "(68939, 5)"
      ]
     },
     "execution_count": 77,
     "metadata": {},
     "output_type": "execute_result"
    }
   ],
   "source": [
    "df_dominant_topic.shape"
   ]
  },
  {
   "cell_type": "code",
   "execution_count": null,
   "metadata": {
    "execution": {
     "iopub.execute_input": "2022-08-13T14:57:33.777878Z",
     "iopub.status.busy": "2022-08-13T14:57:33.777537Z",
     "iopub.status.idle": "2022-08-13T14:57:33.834389Z",
     "shell.execute_reply": "2022-08-13T14:57:33.833368Z",
     "shell.execute_reply.started": "2022-08-13T14:57:33.777853Z"
    },
    "id": "wG-e9tcOO5VU",
    "outputId": "f2c1875d-58d1-4319-f8e7-3a3380ac79c5"
   },
   "outputs": [
    {
     "data": {
      "text/html": [
       "<div>\n",
       "<style scoped>\n",
       "    .dataframe tbody tr th:only-of-type {\n",
       "        vertical-align: middle;\n",
       "    }\n",
       "\n",
       "    .dataframe tbody tr th {\n",
       "        vertical-align: top;\n",
       "    }\n",
       "\n",
       "    .dataframe thead th {\n",
       "        text-align: right;\n",
       "    }\n",
       "</style>\n",
       "<table border=\"1\" class=\"dataframe\">\n",
       "  <thead>\n",
       "    <tr style=\"text-align: right;\">\n",
       "      <th></th>\n",
       "      <th>Topic_Num</th>\n",
       "      <th>Topic_Perc_Contrib</th>\n",
       "      <th>Keywords</th>\n",
       "      <th>Representative Text</th>\n",
       "    </tr>\n",
       "  </thead>\n",
       "  <tbody>\n",
       "    <tr>\n",
       "      <th>0</th>\n",
       "      <td>0.0</td>\n",
       "      <td>0.9404</td>\n",
       "      <td>strong, com, https, noreferrer, rel, quot, stack, style, image, predict</td>\n",
       "      <td>[python, library, help, task, library, module, https, org, project, rel, nofollow, org, project]</td>\n",
       "    </tr>\n",
       "    <tr>\n",
       "      <th>1</th>\n",
       "      <td>1.0</td>\n",
       "      <td>0.9540</td>\n",
       "      <td>code, pre, score, value, add, prediction, metric, import, point, error</td>\n",
       "      <td>[dataframe, pre, value, value, value, value, value, value, value, value, value, value, value, va...</td>\n",
       "    </tr>\n",
       "    <tr>\n",
       "      <th>2</th>\n",
       "      <td>2.0</td>\n",
       "      <td>0.7021</td>\n",
       "      <td>train, index, batch, list, lstm, last, file, data, datum, tensorflow</td>\n",
       "      <td>[errno, strong, file, directory, strong, directory, path, write, file, pass, check, path]</td>\n",
       "    </tr>\n",
       "    <tr>\n",
       "      <th>3</th>\n",
       "      <td>3.0</td>\n",
       "      <td>0.9303</td>\n",
       "      <td>layer, span, container, self, input, output, png, loss, size, word</td>\n",
       "      <td>[create, resnet, model, show, presentation, visualize, tool, graphic, description, model, descri...</td>\n",
       "    </tr>\n",
       "    <tr>\n",
       "      <th>4</th>\n",
       "      <td>4.0</td>\n",
       "      <td>0.8414</td>\n",
       "      <td>class, text, math, question, align_center, user, name, align_left, data, product</td>\n",
       "      <td>[question, regard, career, datum, scientist, pursue, degree, business, analytic, minor, computer...</td>\n",
       "    </tr>\n",
       "    <tr>\n",
       "      <th>5</th>\n",
       "      <td>5.0</td>\n",
       "      <td>0.9768</td>\n",
       "      <td>model, datum, test, feature, set, training, time, value, problem, dataset</td>\n",
       "      <td>[remove, variable, reason, follow, artificial, imputation, add, bias, result, justified, datum, ...</td>\n",
       "    </tr>\n",
       "  </tbody>\n",
       "</table>\n",
       "</div>"
      ],
      "text/plain": [
       "   Topic_Num  Topic_Perc_Contrib  \\\n",
       "0        0.0              0.9404   \n",
       "1        1.0              0.9540   \n",
       "2        2.0              0.7021   \n",
       "3        3.0              0.9303   \n",
       "4        4.0              0.8414   \n",
       "5        5.0              0.9768   \n",
       "\n",
       "                                                                           Keywords  \\\n",
       "0           strong, com, https, noreferrer, rel, quot, stack, style, image, predict   \n",
       "1            code, pre, score, value, add, prediction, metric, import, point, error   \n",
       "2              train, index, batch, list, lstm, last, file, data, datum, tensorflow   \n",
       "3                layer, span, container, self, input, output, png, loss, size, word   \n",
       "4  class, text, math, question, align_center, user, name, align_left, data, product   \n",
       "5         model, datum, test, feature, set, training, time, value, problem, dataset   \n",
       "\n",
       "                                                                                   Representative Text  \n",
       "0     [python, library, help, task, library, module, https, org, project, rel, nofollow, org, project]  \n",
       "1  [dataframe, pre, value, value, value, value, value, value, value, value, value, value, value, va...  \n",
       "2            [errno, strong, file, directory, strong, directory, path, write, file, pass, check, path]  \n",
       "3  [create, resnet, model, show, presentation, visualize, tool, graphic, description, model, descri...  \n",
       "4  [question, regard, career, datum, scientist, pursue, degree, business, analytic, minor, computer...  \n",
       "5  [remove, variable, reason, follow, artificial, imputation, add, bias, result, justified, datum, ...  "
      ]
     },
     "execution_count": 78,
     "metadata": {},
     "output_type": "execute_result"
    }
   ],
   "source": [
    "\n",
    "# Display setting to show more characters in column\n",
    "pd.options.display.max_colwidth = 100\n",
    "\n",
    "sent_topics_sorteddf_mallet = pd.DataFrame()\n",
    "sent_topics_outdf_grpd = df_topic_sents_keywords.groupby('Dominant_Topic')\n",
    "\n",
    "for i, grp in sent_topics_outdf_grpd:\n",
    "    sent_topics_sorteddf_mallet = pd.concat([sent_topics_sorteddf_mallet, \n",
    "                                             grp.sort_values(['Perc_Contribution'], ascending=False).head(1)], \n",
    "                                            axis=0)\n",
    "\n",
    "# Reset Index    \n",
    "sent_topics_sorteddf_mallet.reset_index(drop=True, inplace=True)\n",
    "\n",
    "# Format\n",
    "sent_topics_sorteddf_mallet.columns = ['Topic_Num', \"Topic_Perc_Contrib\", \"Keywords\", \"Representative Text\"]\n",
    "\n",
    "# Show\n",
    "sent_topics_sorteddf_mallet.head(10)"
   ]
  },
  {
   "cell_type": "code",
   "execution_count": null,
   "metadata": {
    "execution": {
     "iopub.execute_input": "2022-08-13T14:57:37.377906Z",
     "iopub.status.busy": "2022-08-13T14:57:37.377309Z",
     "iopub.status.idle": "2022-08-13T14:57:49.613365Z",
     "shell.execute_reply": "2022-08-13T14:57:49.612242Z",
     "shell.execute_reply.started": "2022-08-13T14:57:37.377878Z"
    },
    "id": "wz-VOorKO5VU",
    "outputId": "9ce239e8-ffea-459e-9ae1-dbe7d9717534"
   },
   "outputs": [
    {
     "data": {
      "image/png": "[encoded data removed]",
      "text/plain": [
       "<Figure size 2560x2240 with 12 Axes>"
      ]
     },
     "metadata": {
      "needs_background": "light"
     },
     "output_type": "display_data"
    }
   ],
   "source": [
    "import seaborn as sns\n",
    "import matplotlib.colors as mcolors\n",
    "cols = [color for name, color in mcolors.TABLEAU_COLORS.items()]  # more colors: 'mcolors.XKCD_COLORS'\n",
    "\n",
    "fig, axes = plt.subplots(3,2,figsize=(16,14), dpi=160, sharex=True, sharey=True)\n",
    "\n",
    "for i, ax in enumerate(axes.flatten()):    \n",
    "    df_dominant_topic_sub = df_dominant_topic.loc[df_dominant_topic.Dominant_Topic == i, :]\n",
    "    doc_lens = [len(d) for d in df_dominant_topic_sub.Text]\n",
    "    ax.hist(doc_lens, bins = 1000, color=cols[i])\n",
    "    ax.tick_params(axis='y', labelcolor=cols[i], color=cols[i])\n",
    "    sns.kdeplot(doc_lens, color=\"black\", shade=False, ax=ax.twinx())\n",
    "    ax.set(xlim=(0, 1000), xlabel='Document Word Count')\n",
    "    ax.set_ylabel('Number of Documents', color=cols[i])\n",
    "    ax.set_title('Topic: '+str(i), fontdict=dict(size=16, color=cols[i]))\n",
    "\n",
    "fig.tight_layout()\n",
    "fig.subplots_adjust(top=0.90)\n",
    "plt.xticks(np.linspace(0,1000,9))\n",
    "fig.suptitle('Distribution of Document Word Counts by Dominant Topic', fontsize=22)\n",
    "plt.show()"
   ]
  },
  {
   "cell_type": "code",
   "execution_count": null,
   "metadata": {
    "execution": {
     "iopub.execute_input": "2022-08-13T14:57:57.950750Z",
     "iopub.status.busy": "2022-08-13T14:57:57.950385Z",
     "iopub.status.idle": "2022-08-13T14:58:10.335850Z",
     "shell.execute_reply": "2022-08-13T14:58:10.334939Z",
     "shell.execute_reply.started": "2022-08-13T14:57:57.950724Z"
    },
    "id": "AB262AONO5VU",
    "outputId": "80d9e26a-eff9-4532-832c-fd04598cea60"
   },
   "outputs": [
    {
     "name": "stderr",
     "output_type": "stream",
     "text": [
      "/opt/conda/lib/python3.7/site-packages/pyLDAvis/_prepare.py:248: FutureWarning: In a future version of pandas all arguments of DataFrame.drop except for the argument 'labels' will be keyword-only\n",
      "  by='saliency', ascending=False).head(R).drop('saliency', 1)\n"
     ]
    },
    {
     "data": {
      "text/html": [
       "\n",
       "<link rel=\"stylesheet\" type=\"text/css\" href=\"https://cdn.jsdelivr.net/gh/bmabey/pyLDAvis@3.2.2/pyLDAvis/js/ldavis.v1.0.0.css\">\n",
       "\n",
       "\n",
       "<div id=\"ldavis_el171401661508241441696354515\"></div>\n",
       "<script type=\"text/javascript\">\n",
       "\n",
       "var ldavis_el171401661508241441696354515_data = {\"mdsDat\": {\"x\": [-0.00831175475464894, -0.29739880142941183, -0.2385821807666691, 0.19752620052490688, 0.1780765349012755, 0.16869000152454774], \"y\": [-0.2103236107352465, 0.0785562833828281, -0.0026529950063069814, 0.014167354781190116, -0.2239877113231553, 0.34424067890069016], \"topics\": [1, 2, 3, 4, 5, 6], \"cluster\": [1, 1, 1, 1, 1, 1], \"Freq\": [40.99717613175175, 16.161481411010953, 13.814349773745105, 12.444537430820626, 10.697955885502408, 5.884499367169157]}, \"tinfo\": {\"Term\": [\"code\", \"train\", \"class\", \"strong\", \"model\", \"com\", \"text\", \"https\", \"noreferrer\", \"rel\", \"quot\", \"math\", \"datum\", \"pre\", \"stack\", \"layer\", \"style\", \"span\", \"container\", \"self\", \"predict\", \"image\", \"input\", \"output\", \"question\", \"feature\", \"score\", \"png\", \"loss\", \"word\", \"model\", \"feature\", \"set\", \"training\", \"dataset\", \"label\", \"learn\", \"column\", \"different\", \"mean\", \"well\", \"case\", \"way\", \"split\", \"validation\", \"approach\", \"apply\", \"high\", \"performance\", \"possible\", \"instance\", \"table\", \"similar\", \"embed\", \"answer\", \"paper\", \"perform\", \"low\", \"compare\", \"large\", \"variable\", \"time\", \"example\", \"test\", \"datum\", \"problem\", \"give\", \"however\", \"sample\", \"first\", \"value\", \"number\", \"result\", \"base\", \"work\", \"create\", \"layer\", \"span\", \"container\", \"self\", \"input\", \"output\", \"png\", \"loss\", \"word\", \"weight\", \"shape\", \"activation\", \"probability\", \"alt_enter\", \"dense\", \"align\", \"plot\", \"sentence\", \"none\", \"positive\", \"conv\", \"relu\", \"matrix\", \"encode\", \"category\", \"int\", \"dropout\", \"length\", \"encoder\", \"customer\", \"size\", \"function\", \"sequence\", \"true\", \"step\", \"return\", \"code\", \"score\", \"metric\", \"import\", \"point\", \"state\", \"start\", \"row\", \"cluster\", \"generate\", \"machine\", \"learning\", \"simple\", \"distance\", \"thing\", \"dataframe\", \"df\", \"panda\", \"leave\", \"job\", \"th_th\", \"explain\", \"string\", \"estimator\", \"sklearn\", \"compute\", \"algorithm\", \"date\", \"version\", \"frame\", \"pre\", \"transform\", \"prediction\", \"add\", \"array\", \"random\", \"gt\", \"error\", \"value\", \"true\", \"rate\", \"return\", \"accuracy\", \"print\", \"fit\", \"function\", \"strong\", \"com\", \"https\", \"noreferrer\", \"rel\", \"quot\", \"stack\", \"style\", \"predict\", \"method\", \"nofollow\", \"classification\", \"vector\", \"description\", \"blockquote\", \"regression\", \"org\", \"deep\", \"wiki\", \"analysis\", \"event\", \"sequential\", \"library\", \"tutorial\", \"support\", \"net\", \"forecast\", \"content\", \"attention\", \"blog\", \"image\", \"show\", \"network\", \"neural\", \"link\", \"python\", \"scale\", \"find\", \"class\", \"text\", \"math\", \"question\", \"user\", \"product\", \"group\", \"year\", \"document\", \"implement\", \"month\", \"difference\", \"item\", \"science\", \"price\", \"align_left\", \"topic\", \"extract\", \"review\", \"business\", \"team\", \"country\", \"field\", \"regard\", \"page\", \"least\", \"tool\", \"pattern\", \"scientist\", \"align_center\", \"name\", \"data\", \"find\", \"post\", \"amp\", \"look\", \"work\", \"train\", \"index\", \"batch\", \"lstm\", \"last\", \"file\", \"tensorflow\", \"pipeline\", \"dimension\", \"load\", \"transformer\", \"cost\", \"val\", \"map\", \"package\", \"architecture\", \"memory\", \"num\", \"br\", \"save\", \"compile\", \"box\", \"local\", \"param\", \"util\", \"path\", \"copy\", \"message\", \"augmentation\", \"pretraine\", \"list\", \"dtype\", \"scale\", \"data\", \"print\", \"issue\", \"datum\", \"call\"], \"Freq\": [86045.0, 53022.0, 48376.0, 46829.0, 107863.0, 41240.0, 37404.0, 36511.0, 33900.0, 33540.0, 27517.0, 25282.0, 61094.0, 29959.0, 25611.0, 27291.0, 22985.0, 26160.0, 25139.0, 24690.0, 21572.0, 25071.0, 23880.0, 21951.0, 17565.0, 40292.0, 18122.0, 19534.0, 18480.0, 17850.0, 107863.07744267491, 40291.31375505574, 28650.519895476857, 24910.171583425006, 20121.88515169101, 20119.206672844055, 18954.53498315735, 16818.443581307645, 16526.19278298481, 15627.016040127448, 15392.610256957234, 15224.260355897899, 13343.495266632424, 13203.482803664601, 11565.57038173862, 9767.527064236083, 9024.635311980226, 8893.799487546805, 8612.742777558362, 8241.447011993767, 7840.949316177741, 7732.082082260169, 7013.741093493652, 6796.4908678673355, 6576.597430333642, 6227.851255507437, 5888.032137797082, 5607.881064731402, 5577.209678664203, 5549.227170669733, 16840.21142155205, 22757.600573706655, 19807.551823509075, 46729.52326234342, 56118.02386700322, 20251.182794990513, 16604.54507136203, 9663.667735738645, 11336.654485496116, 10838.90775165235, 21339.556721600566, 11640.010752664142, 12219.006185333068, 10454.17528210838, 10641.48884957538, 10019.783344515987, 27290.630673214207, 26159.942740710263, 25138.31652516816, 24689.841101968635, 23879.184558433033, 21950.251153497167, 19533.416071223826, 18479.503104417872, 17849.240566795466, 12941.571672240007, 11589.655399179992, 9540.79346054502, 9477.158203052495, 9064.219879988703, 8081.927234804474, 6774.880605581197, 6295.44737393361, 6292.218413626363, 5939.538806651887, 5683.901256268337, 5545.294802028438, 5498.296639534759, 5324.945887954815, 5129.75420360111, 5102.314101082823, 4775.998751825654, 4534.285157017405, 4364.8488692411565, 4342.6742748591405, 4136.368022894523, 18064.892908552025, 10298.858375459646, 6044.669305434405, 6815.948075578557, 5768.198580147331, 6105.556845323897, 86044.5463859842, 18121.215981605663, 10193.628782869337, 9465.264846607235, 9437.146053955768, 8575.933147735295, 7245.89128055915, 7038.025142836531, 6383.882484713337, 6301.646853999507, 6060.111416192345, 6024.226300887483, 5872.087062781707, 5218.825611701577, 4607.458059774589, 4507.325881872886, 4254.970671972998, 4150.499493969901, 4136.2106547315025, 4072.868566172662, 4029.4426099612483, 3756.7693617354416, 3727.3671513573545, 3621.98124875423, 3526.84257742989, 3478.0769696892035, 3431.291944859968, 3080.86466799135, 2944.303780951858, 2696.9481717305994, 28388.559013388578, 6773.036556307155, 10419.161720162101, 12104.300164596876, 5741.3551836031465, 7921.54185028045, 5537.810373088251, 8912.748030606042, 15141.968319289477, 8325.598437110151, 5215.459839572364, 6630.964773492816, 6009.981948588327, 5563.091752190267, 4940.188066566733, 5298.341445020391, 46828.923757915705, 41239.2126414691, 36510.79473899153, 33899.69657755052, 33540.043203907786, 27516.68913760421, 25610.426562195888, 22984.98460328853, 21571.442011300755, 12614.725366980318, 12378.141643843253, 12130.943905848011, 10738.08145970215, 10248.342447662584, 8795.491109120027, 8257.386248160403, 7795.800122743218, 3640.4366374944734, 3480.9941953042726, 3398.6891911880684, 3297.025166023381, 3113.7407170946235, 2665.1484428038584, 2406.2933499670935, 1898.5337346003757, 1889.07422854776, 1753.092250718624, 1684.57204331211, 1602.1697321650995, 1574.3499402729972, 22133.414955636246, 4062.849889361812, 6184.578503540305, 3945.7218692900906, 2251.772255464704, 3071.024165779723, 2748.2338246029476, 3049.6890846049328, 48375.65226940767, 37403.709044618765, 25281.662184469125, 17564.77622799634, 8288.003743610634, 5460.90679759793, 5335.259449752358, 4415.4669688145195, 3907.4142491482226, 3792.24427799105, 3660.322113675545, 3286.7961546016445, 3178.214363191783, 2957.725542943726, 2709.4203046028206, 6407.844844371394, 2586.8303724086063, 2326.9800097662433, 2297.1250786061664, 2232.584041782201, 2154.1188681849867, 2120.1732248437, 1934.4686722500362, 1885.0299520516946, 1878.6744350991844, 1802.6820705872835, 1791.2058484522372, 1728.1503376167816, 1710.625118783228, 8661.914091825236, 7206.36290536757, 6240.4550539291395, 3531.999851588729, 1957.0677569509453, 2019.0302717767468, 2562.6461839307426, 2352.3433219617755, 53021.63940251879, 10386.646529473557, 9869.703265982615, 6179.0163024029025, 5222.712020647924, 4790.277914396157, 4502.652715702332, 3920.8468802601974, 3909.186855269376, 3459.2714078120093, 3220.2264882292634, 2959.0545964496287, 2849.749357835399, 2827.6532769040423, 2784.166422339235, 2778.0473558592016, 2736.1055837519352, 2712.5672181878335, 2353.33321049534, 2208.134917237414, 1818.984406215062, 1596.938638546101, 1543.8240927539277, 1515.6669638118353, 1455.5921486324276, 1404.3421113670163, 1251.7171944485065, 1267.101953250153, 1243.7612658264102, 1162.4866058017778, 8466.776182249345, 1947.1120303856399, 3375.3468483037445, 4773.641280569059, 3585.0655732778096, 2255.49408279334, 4701.754450180601, 1600.6075604065943], \"Total\": [86045.0, 53022.0, 48376.0, 46829.0, 107863.0, 41240.0, 37404.0, 36511.0, 33900.0, 33540.0, 27517.0, 25282.0, 61094.0, 29959.0, 25611.0, 27291.0, 22985.0, 26160.0, 25139.0, 24690.0, 21572.0, 25071.0, 23880.0, 21951.0, 17565.0, 40292.0, 18122.0, 19534.0, 18480.0, 17850.0, 107863.88639898328, 40292.12001982579, 28651.32473140709, 24910.976655659633, 20122.691559908777, 20120.019398176704, 18955.34180678918, 16819.256642255834, 16526.999083232175, 15627.82436608853, 15393.414869899567, 15225.066103236499, 13344.300267956412, 13204.290727560237, 11566.376334896644, 9768.333421619325, 9025.444566415177, 8894.604287767945, 8613.546543225015, 8242.252012949306, 7841.754463664286, 7732.9068200648, 7014.547214454678, 6797.303962073686, 6577.405618413518, 6228.659114193066, 5888.837547459436, 5608.687511728433, 5578.015570713759, 5550.034441232508, 16884.584567368554, 23227.323967467426, 20165.50356246032, 50290.50117342768, 61094.51731535388, 21179.93708189412, 17791.506669686256, 9936.607618834843, 12751.056420984634, 12936.95003859027, 37835.67485254908, 14793.78196032166, 16319.31316942651, 12744.941615209458, 15273.03510785439, 11778.901919987016, 27291.442317280576, 26160.755400265647, 25139.13205215751, 24690.655744447948, 23880.00021224381, 21951.06822801582, 19534.234495881476, 18480.314912593534, 17850.057234429638, 12942.385198575734, 11590.468853817745, 9541.60384831418, 9477.978589423477, 9065.04011486339, 8082.738173505436, 6775.717943809969, 6296.264293885288, 6293.035150453991, 5940.356035803923, 5684.720191276307, 5546.10396954907, 5499.107115561167, 5325.761645696938, 5130.572321325016, 5103.133480705694, 4776.817869721122, 4535.099336026166, 4365.665221508591, 4343.4908265045615, 4137.204675691315, 18699.556998391672, 15597.855125505475, 7485.988386307434, 15142.200878682177, 9738.572001107605, 12737.175684847563, 86045.35982935673, 18122.028201952235, 10194.442928871369, 9466.078878153696, 9437.963902013102, 8576.748501433107, 7246.713433084036, 7038.841034960327, 6384.6969882117655, 6302.462338314422, 6060.928700919549, 6025.042077387422, 5872.909559194437, 5219.639121096579, 4608.278273451612, 4508.136207665539, 4255.782222010643, 4151.31081322856, 4137.025285719549, 4073.6868951982406, 4030.2764487687327, 3757.589739850113, 3728.182848909576, 3622.7951838710355, 3527.654567296794, 3478.896503027169, 3432.110626334356, 3081.676772525973, 2945.1231704755005, 2697.770213744244, 29959.119830179112, 7579.116971314684, 12634.504780920912, 15580.680022369059, 6597.08399306688, 10423.14416960245, 6451.739052297641, 13788.701730384297, 37835.67485254908, 15142.200878682177, 6688.317299808213, 12737.175684847563, 10274.63806754675, 9148.801390665933, 6767.365777391413, 15597.855125505475, 46829.733114083356, 41240.02037398493, 36511.603515620896, 33900.50447478671, 33540.85097605858, 27517.505786730966, 25611.234083036576, 22985.798960327164, 21572.26224961419, 12615.544801115608, 12378.949080100198, 12131.760469714141, 10738.89884396009, 10249.149609402257, 8796.3056405939, 8258.199969543273, 7796.610220668848, 3641.2512527474482, 3481.8040497014285, 3399.5095044777395, 3297.8397190805244, 3114.5996164293424, 2665.962869983643, 2407.106328774789, 1899.3462425756904, 1889.8883645480641, 1753.9073895436372, 1685.39423669504, 1602.982724825694, 1575.1611457954377, 25071.994534388115, 5994.888291707041, 14112.694276850565, 7519.554580034067, 2840.527301110054, 7641.024456516141, 6124.2286621039975, 16556.497900733706, 48376.47325284366, 37404.523593956226, 25282.47703510139, 17565.59712446364, 8288.8188524259, 5461.72033604314, 5336.075695157106, 4416.2847651446555, 3908.2289024434635, 3793.0717598136075, 3661.13803193885, 3287.6142253659423, 3179.030048699172, 2958.5390986073116, 2710.2376636373256, 6409.7815204091485, 2587.6428175059045, 2327.79685618979, 2297.9541037539793, 2233.3977859214224, 2154.9326906592732, 2120.990336584537, 1935.286459420488, 1885.848985187836, 1879.4916107245353, 1803.4997203840232, 1792.0195698283503, 1728.9652051858059, 1711.4390032437238, 8666.056623885182, 11831.008529055802, 13101.923531420558, 16556.497900733706, 2397.718632223261, 2831.9287541340946, 12062.872464225893, 15273.03510785439, 53022.44678650605, 10387.453858625846, 9870.507841662311, 6179.826253092906, 5223.52868754246, 4791.080812510688, 4503.456136318035, 3921.6533394698786, 3909.999563702464, 3460.075280335734, 3221.0353141053783, 2959.8631979421793, 2850.5523289620933, 2828.4638685049804, 2784.979077871181, 2778.8585869759577, 2736.9108322433262, 2713.373851426637, 2354.14462532862, 2208.9377231860663, 1819.792717588208, 1597.7463267195058, 1544.6312751524624, 1516.4717075710853, 1456.397469751291, 1405.1444182056937, 1252.5234828805005, 1267.9206027913256, 1244.566799281766, 1163.2937730303504, 10364.535778881842, 2203.9139977389004, 6124.2286621039975, 13101.923531420558, 9148.801390665933, 4321.916780507983, 61094.51731535388, 5974.6428527027265], \"Category\": [\"Default\", \"Default\", \"Default\", \"Default\", \"Default\", \"Default\", \"Default\", \"Default\", \"Default\", \"Default\", \"Default\", \"Default\", \"Default\", \"Default\", \"Default\", \"Default\", \"Default\", \"Default\", \"Default\", \"Default\", \"Default\", \"Default\", \"Default\", \"Default\", \"Default\", \"Default\", \"Default\", \"Default\", \"Default\", \"Default\", \"Topic1\", \"Topic1\", \"Topic1\", \"Topic1\", \"Topic1\", \"Topic1\", \"Topic1\", \"Topic1\", \"Topic1\", \"Topic1\", \"Topic1\", \"Topic1\", \"Topic1\", \"Topic1\", \"Topic1\", \"Topic1\", \"Topic1\", \"Topic1\", \"Topic1\", \"Topic1\", \"Topic1\", \"Topic1\", \"Topic1\", \"Topic1\", \"Topic1\", \"Topic1\", \"Topic1\", \"Topic1\", \"Topic1\", \"Topic1\", \"Topic1\", \"Topic1\", \"Topic1\", \"Topic1\", \"Topic1\", \"Topic1\", \"Topic1\", \"Topic1\", \"Topic1\", \"Topic1\", \"Topic1\", \"Topic1\", \"Topic1\", \"Topic1\", \"Topic1\", \"Topic1\", \"Topic2\", \"Topic2\", \"Topic2\", \"Topic2\", \"Topic2\", \"Topic2\", \"Topic2\", \"Topic2\", \"Topic2\", \"Topic2\", \"Topic2\", \"Topic2\", \"Topic2\", \"Topic2\", \"Topic2\", \"Topic2\", \"Topic2\", \"Topic2\", \"Topic2\", \"Topic2\", \"Topic2\", \"Topic2\", \"Topic2\", \"Topic2\", \"Topic2\", \"Topic2\", \"Topic2\", \"Topic2\", \"Topic2\", \"Topic2\", \"Topic2\", \"Topic2\", \"Topic2\", \"Topic2\", \"Topic2\", \"Topic2\", \"Topic3\", \"Topic3\", \"Topic3\", \"Topic3\", \"Topic3\", \"Topic3\", \"Topic3\", \"Topic3\", \"Topic3\", \"Topic3\", \"Topic3\", \"Topic3\", \"Topic3\", \"Topic3\", \"Topic3\", \"Topic3\", \"Topic3\", \"Topic3\", \"Topic3\", \"Topic3\", \"Topic3\", \"Topic3\", \"Topic3\", \"Topic3\", \"Topic3\", \"Topic3\", \"Topic3\", \"Topic3\", \"Topic3\", \"Topic3\", \"Topic3\", \"Topic3\", \"Topic3\", \"Topic3\", \"Topic3\", \"Topic3\", \"Topic3\", \"Topic3\", \"Topic3\", \"Topic3\", \"Topic3\", \"Topic3\", \"Topic3\", \"Topic3\", \"Topic3\", \"Topic3\", \"Topic4\", \"Topic4\", \"Topic4\", \"Topic4\", \"Topic4\", \"Topic4\", \"Topic4\", \"Topic4\", \"Topic4\", \"Topic4\", \"Topic4\", \"Topic4\", \"Topic4\", \"Topic4\", \"Topic4\", \"Topic4\", \"Topic4\", \"Topic4\", \"Topic4\", \"Topic4\", \"Topic4\", \"Topic4\", \"Topic4\", \"Topic4\", \"Topic4\", \"Topic4\", \"Topic4\", \"Topic4\", \"Topic4\", \"Topic4\", \"Topic4\", \"Topic4\", \"Topic4\", \"Topic4\", \"Topic4\", \"Topic4\", \"Topic4\", \"Topic4\", \"Topic5\", \"Topic5\", \"Topic5\", \"Topic5\", \"Topic5\", \"Topic5\", \"Topic5\", \"Topic5\", \"Topic5\", \"Topic5\", \"Topic5\", \"Topic5\", \"Topic5\", \"Topic5\", \"Topic5\", \"Topic5\", \"Topic5\", \"Topic5\", \"Topic5\", \"Topic5\", \"Topic5\", \"Topic5\", \"Topic5\", \"Topic5\", \"Topic5\", \"Topic5\", \"Topic5\", \"Topic5\", \"Topic5\", \"Topic5\", \"Topic5\", \"Topic5\", \"Topic5\", \"Topic5\", \"Topic5\", \"Topic5\", \"Topic5\", \"Topic6\", \"Topic6\", \"Topic6\", \"Topic6\", \"Topic6\", \"Topic6\", \"Topic6\", \"Topic6\", \"Topic6\", \"Topic6\", \"Topic6\", \"Topic6\", \"Topic6\", \"Topic6\", \"Topic6\", \"Topic6\", \"Topic6\", \"Topic6\", \"Topic6\", \"Topic6\", \"Topic6\", \"Topic6\", \"Topic6\", \"Topic6\", \"Topic6\", \"Topic6\", \"Topic6\", \"Topic6\", \"Topic6\", \"Topic6\", \"Topic6\", \"Topic6\", \"Topic6\", \"Topic6\", \"Topic6\", \"Topic6\", \"Topic6\", \"Topic6\"], \"logprob\": [30.0, 29.0, 28.0, 27.0, 26.0, 25.0, 24.0, 23.0, 22.0, 21.0, 20.0, 19.0, 18.0, 17.0, 16.0, 15.0, 14.0, 13.0, 12.0, 11.0, 10.0, 9.0, 8.0, 7.0, 6.0, 5.0, 4.0, 3.0, 2.0, 1.0, -2.8906, -3.8753, -4.2163, -4.3562, -4.5696, -4.5698, -4.6294, -4.749, -4.7665, -4.8224, -4.8375, -4.8485, -4.9804, -4.991, -5.1234, -5.2924, -5.3715, -5.3861, -5.4182, -5.4623, -5.5121, -5.5261, -5.6236, -5.655, -5.6879, -5.7424, -5.7985, -5.8473, -5.8527, -5.8578, -4.7477, -4.4465, -4.5854, -3.7271, -3.544, -4.5632, -4.7618, -5.3031, -5.1434, -5.1883, -4.5109, -5.117, -5.0684, -5.2244, -5.2067, -5.2669, -3.334, -3.3763, -3.4162, -3.4342, -3.4676, -3.5518, -3.6684, -3.7239, -3.7586, -4.0801, -4.1905, -4.385, -4.3917, -4.4362, -4.5509, -4.7273, -4.8007, -4.8013, -4.8589, -4.9029, -4.9276, -4.9361, -4.9682, -5.0055, -5.0109, -5.077, -5.1289, -5.167, -5.1721, -5.2207, -3.7466, -4.3085, -4.8414, -4.7213, -4.8882, -4.8314, -2.0288, -3.5866, -4.1619, -4.236, -4.239, -4.3347, -4.5032, -4.5323, -4.6299, -4.6428, -4.6819, -4.6879, -4.7134, -4.8314, -4.956, -4.9779, -5.0356, -5.0604, -5.0639, -5.0793, -5.09, -5.1601, -5.1679, -5.1966, -5.2232, -5.2372, -5.2507, -5.3584, -5.4038, -5.4915, -3.1377, -4.5707, -4.14, -3.9901, -4.7359, -4.4141, -4.772, -4.2962, -3.7662, -4.3643, -4.832, -4.5919, -4.6902, -4.7675, -4.8862, -4.8162, -2.5327, -2.6598, -2.7816, -2.8558, -2.8665, -3.0644, -3.1362, -3.2444, -3.3078, -3.8444, -3.8633, -3.8835, -4.0054, -4.0521, -4.205, -4.2681, -4.3256, -5.0871, -5.1319, -5.1558, -5.1862, -5.2434, -5.399, -5.5011, -5.7381, -5.7431, -5.8178, -5.8577, -5.9079, -5.9254, -3.2821, -4.9773, -4.5572, -5.0066, -5.5675, -5.2572, -5.3683, -5.2642, -2.349, -2.6062, -2.9979, -3.3621, -4.1132, -4.5304, -4.5536, -4.7429, -4.8651, -4.895, -4.9304, -5.0381, -5.0717, -5.1436, -5.2313, -4.3705, -5.2776, -5.3834, -5.3963, -5.4248, -5.4606, -5.4765, -5.5682, -5.594, -5.5974, -5.6387, -5.6451, -5.6809, -5.6911, -4.0691, -4.253, -4.3969, -4.9661, -5.5565, -5.5254, -5.2869, -5.3726, -1.6596, -3.2897, -3.3408, -3.8091, -3.9772, -4.0637, -4.1256, -4.2639, -4.2669, -4.3892, -4.4608, -4.5454, -4.583, -4.5908, -4.6063, -4.6085, -4.6237, -4.6324, -4.7744, -4.8381, -5.032, -5.1622, -5.196, -5.2144, -5.2548, -5.2907, -5.4057, -5.3935, -5.4121, -5.4797, -3.4941, -4.9639, -4.4138, -4.0671, -4.3535, -4.8169, -4.0823, -5.1599], \"loglift\": [30.0, 29.0, 28.0, 27.0, 26.0, 25.0, 24.0, 23.0, 22.0, 21.0, 20.0, 19.0, 18.0, 17.0, 16.0, 15.0, 14.0, 13.0, 12.0, 11.0, 10.0, 9.0, 8.0, 7.0, 6.0, 5.0, 4.0, 3.0, 2.0, 1.0, 0.8917, 0.8916, 0.8916, 0.8916, 0.8916, 0.8916, 0.8916, 0.8916, 0.8916, 0.8916, 0.8916, 0.8916, 0.8916, 0.8916, 0.8916, 0.8916, 0.8916, 0.8916, 0.8916, 0.8916, 0.8916, 0.8916, 0.8916, 0.8915, 0.8915, 0.8915, 0.8915, 0.8915, 0.8915, 0.8915, 0.889, 0.8712, 0.8738, 0.8182, 0.8067, 0.8468, 0.8226, 0.8638, 0.7741, 0.7147, 0.319, 0.6519, 0.6023, 0.6935, 0.5303, 0.7299, 1.8225, 1.8225, 1.8225, 1.8225, 1.8225, 1.8225, 1.8225, 1.8225, 1.8225, 1.8225, 1.8225, 1.8225, 1.8225, 1.8224, 1.8224, 1.8224, 1.8224, 1.8224, 1.8224, 1.8224, 1.8224, 1.8224, 1.8224, 1.8224, 1.8224, 1.8224, 1.8224, 1.8224, 1.8224, 1.8223, 1.788, 1.4074, 1.6087, 1.0243, 1.2988, 1.0872, 1.9795, 1.9794, 1.9794, 1.9794, 1.9794, 1.9794, 1.9793, 1.9793, 1.9793, 1.9793, 1.9793, 1.9793, 1.9793, 1.9793, 1.9793, 1.9793, 1.9793, 1.9793, 1.9793, 1.9793, 1.9793, 1.9792, 1.9792, 1.9792, 1.9792, 1.9792, 1.9792, 1.9792, 1.9792, 1.9792, 1.9256, 1.867, 1.7867, 1.727, 1.8405, 1.705, 1.8267, 1.5431, 1.0637, 1.3813, 1.7307, 1.3267, 1.4432, 1.482, 1.6648, 0.8997, 2.0839, 2.0839, 2.0839, 2.0839, 2.0839, 2.0839, 2.0839, 2.0839, 2.0839, 2.0838, 2.0838, 2.0838, 2.0838, 2.0838, 2.0838, 2.0838, 2.0838, 2.0837, 2.0837, 2.0836, 2.0836, 2.0836, 2.0836, 2.0836, 2.0835, 2.0835, 2.0834, 2.0834, 2.0834, 2.0834, 1.9592, 1.6949, 1.2589, 1.439, 1.8516, 1.1724, 1.2826, 0.3921, 2.2351, 2.2351, 2.2351, 2.2351, 2.235, 2.235, 2.235, 2.2349, 2.2349, 2.2349, 2.2349, 2.2349, 2.2349, 2.2348, 2.2348, 2.2348, 2.2348, 2.2348, 2.2348, 2.2348, 2.2347, 2.2347, 2.2347, 2.2347, 2.2347, 2.2347, 2.2347, 2.2346, 2.2346, 2.2346, 1.7394, 1.4934, 0.6902, 2.032, 1.8968, 0.686, 0.3644, 2.8328, 2.8328, 2.8328, 2.8327, 2.8327, 2.8327, 2.8327, 2.8326, 2.8326, 2.8326, 2.8326, 2.8326, 2.8326, 2.8326, 2.8326, 2.8326, 2.8326, 2.8326, 2.8325, 2.8325, 2.8324, 2.8323, 2.8323, 2.8323, 2.8323, 2.8323, 2.8322, 2.8322, 2.8322, 2.8322, 2.6306, 2.709, 2.2371, 1.8232, 1.896, 2.1825, 0.2684, 1.5157]}, \"token.table\": {\"Topic\": [2, 3, 2, 1, 3, 3, 2, 4, 5, 4, 5, 2, 3, 4, 5, 4, 1, 1, 1, 6, 2, 3, 4, 6, 1, 4, 5, 6, 4, 4, 6, 6, 5, 1, 3, 4, 5, 6, 1, 2, 5, 4, 3, 3, 1, 4, 1, 6, 3, 2, 4, 2, 6, 6, 5, 1, 4, 2, 4, 5, 6, 3, 1, 3, 1, 5, 6, 4, 2, 4, 3, 5, 1, 6, 3, 5, 2, 3, 6, 1, 2, 2, 1, 2, 3, 3, 4, 1, 3, 3, 5, 1, 5, 6, 1, 3, 4, 5, 1, 4, 5, 6, 1, 3, 4, 3, 2, 3, 3, 1, 3, 5, 2, 3, 1, 1, 5, 4, 2, 4, 5, 3, 6, 2, 1, 2, 4, 6, 5, 3, 1, 1, 6, 2, 1, 3, 5, 3, 2, 4, 4, 5, 1, 2, 6, 6, 6, 1, 5, 2, 1, 6, 3, 6, 5, 2, 1, 6, 6, 4, 3, 1, 5, 2, 5, 4, 1, 4, 1, 4, 4, 2, 4, 6, 1, 2, 3, 4, 2, 6, 5, 3, 1, 6, 6, 5, 1, 1, 6, 2, 2, 3, 2, 1, 4, 5, 2, 3, 4, 2, 3, 6, 5, 3, 6, 2, 1, 4, 5, 3, 4, 5, 5, 4, 1, 2, 3, 1, 3, 5, 4, 4, 2, 1, 3, 2, 3, 5, 3, 1, 2, 6, 4, 6, 5, 5, 3, 2, 2, 2, 4, 4, 1, 2, 4, 5, 1, 3, 1, 2, 3, 2, 1, 4, 3, 3, 1, 2, 3, 3, 4, 4, 4, 1, 5, 6, 1, 2, 5, 3, 3, 1, 6, 5, 5, 6, 1, 1, 3, 6, 2, 3, 4, 5, 6, 6, 1, 1, 2, 3, 1, 2, 4, 3, 1, 2, 1, 4, 2, 1, 3, 4, 5, 5], \"Freq\": [0.41500245283268694, 0.5849354459485104, 0.9999367141705127, 0.2230968093183054, 0.7768595454513143, 0.9996764013590255, 0.999894041662312, 0.0003461782134831049, 0.9995318950635516, 0.00015601155777555551, 0.9997220622257598, 0.9998852608647937, 0.0024718135969279908, 0.28461167987485153, 0.712941664599659, 0.999850124120239, 0.9999383315493905, 0.9999507429897878, 0.9999658670926826, 0.9996910289066231, 0.1296027155177274, 0.8702329705114304, 0.9993869398525171, 0.9995445810686152, 0.8202469901882083, 0.044645163326677874, 0.13503396500037368, 0.9999485495913222, 0.999851569437529, 0.9992628399966967, 0.9995328878514538, 0.9995137829187278, 0.9998218920409387, 0.22227270026680468, 0.243027078906175, 0.11783131098481212, 0.1489628789438676, 0.26796580807767645, 0.9999299771029386, 0.9997778853502501, 0.9999902172934106, 0.9999373157988043, 0.9998908345669258, 0.9999958181433903, 0.9999252855056223, 0.9999752576750526, 0.999817933331149, 0.999564391273497, 0.9997423024725258, 0.9999549685265521, 0.9997660863633822, 0.9998009468349076, 0.9995820574323312, 0.9997083655951466, 0.9995330782194266, 0.8506735235648388, 0.14924990563143578, 0.9997088189282988, 0.15928958789868009, 0.47626594560985325, 0.3643739782598461, 0.999747965098391, 0.9999656328326298, 0.9997803882185158, 0.9185439621420298, 0.004484854157791015, 0.07696271624063267, 0.9996563673691827, 0.9999086728421, 0.999887833679274, 0.9998161978292505, 0.9998131698782652, 0.9999395484184913, 0.9997443570808183, 0.9998775545431874, 0.9996855602693345, 0.9997575938375961, 0.11615698265115722, 0.8834283016476684, 0.9998081648134375, 0.9998884488339367, 0.9998869972277675, 0.19305660910295208, 0.16049371748491095, 0.6463987817184867, 0.9997805054300127, 0.999745372985938, 0.9822715281394787, 0.017703500380946785, 0.9998430536884166, 0.999657677950861, 0.9999722025094426, 0.999335261498769, 0.9997744115465835, 0.5751216263904476, 0.02730045947579104, 0.18421770221496167, 0.2133301390895884, 0.8378327169593922, 0.04777014660770407, 0.08804238994526688, 0.026281310431422948, 0.269972107330697, 0.7299738424814686, 0.9994826468324115, 0.9997144998709231, 0.6602830913052375, 0.3396620854194726, 0.9999266416378864, 0.9333105008072271, 0.06666102101519851, 0.9997984108137593, 0.1415122329962889, 0.8583732161374019, 0.9999320613094868, 0.9725653231674243, 0.027373527307692404, 0.9999834705802324, 0.11718253990404766, 0.8827777929531269, 0.9997174427795007, 0.9998860269212223, 0.9999563070380844, 0.9999581150655394, 0.9999037889202241, 0.9998287835660835, 0.4780286398196611, 0.5217592365892235, 0.9996759864853768, 0.999831382426801, 0.9999493341354931, 0.9998136153489747, 0.9998987872807665, 0.9999837928213747, 0.9999819677855106, 0.9998270423054251, 0.9997229162952591, 0.9997521683700875, 0.9998476242508672, 0.9996388284343777, 0.7928105458165945, 0.20700381924518543, 0.17887921268771145, 0.004148762753814235, 0.8169203310824449, 0.9996892320979704, 0.9995913101316687, 0.787540449273053, 0.21247012331440368, 0.999982959565623, 0.9998774202115923, 0.9998662983295862, 0.99984677250544, 0.9998359998477812, 0.999981131789392, 0.9998569883994802, 0.999947250105375, 0.9996672042681859, 0.9992739270981962, 0.9999568150940609, 0.9999565519298642, 0.9999917822450788, 0.9996891589639828, 0.39083734819765426, 0.6090774072474691, 0.9995299380827308, 0.5616928875872322, 0.438257917210424, 0.4751611231717149, 0.5247651251149138, 0.999923331124956, 0.9999400649049018, 0.999985118959304, 0.9998622189764081, 0.7868170580869446, 0.14776478427646572, 0.06543289623953284, 0.9999217325669006, 0.9999513359438946, 0.9996484433657113, 0.9997384342011796, 0.9996842411258674, 0.999894180403682, 0.999688944034544, 0.9991855511854397, 0.9994417440079703, 0.999857773719739, 0.9999365484098481, 0.9998334020339578, 0.9997991993623083, 0.9999368034676898, 0.9998978697075864, 0.9998733110422194, 0.9998480981960587, 0.18350777029747412, 0.8161925147094474, 0.052404743827569704, 0.9475912563827238, 0.9999414873785798, 0.17531355905178198, 0.8246464883794656, 0.9988878363657185, 0.9995433375995283, 0.6080577949452103, 0.391854609900877, 0.9998967512519421, 0.9561407062588382, 0.04381504989423741, 0.9998681118770607, 0.4843591354878923, 0.4019094582770379, 0.11372820554957536, 0.9999660060253343, 0.9999816194558153, 0.2177845727798832, 0.022162218639714987, 0.7600393768996628, 0.22008525224157793, 0.779717792418362, 0.999549812739777, 0.9998546935715169, 0.9999746286682115, 0.9997986735777461, 0.7487447463715409, 0.2512360635177443, 0.47938413908067845, 0.520602067842119, 0.9995848029547585, 0.9998805151364905, 0.8891028025993597, 0.11089277259199917, 0.9995754868160277, 0.448709568439908, 0.551089808400542, 0.9998177821589157, 0.9997434888167841, 0.9999432623136453, 0.9999734415944747, 0.9998355085536244, 0.8075085998071898, 0.19249295158348395, 0.9998074820191399, 0.9999886660944953, 0.9999595483302998, 0.6777440716652725, 0.32210775347911424, 0.9999219886276407, 0.9998451263065999, 0.033904546511691676, 0.9660656667724133, 0.9998144468840963, 0.9999711246768647, 0.9999022493834111, 0.9999518147765714, 0.9999015508077387, 0.9999127289982933, 0.2636936914064949, 0.5922839610719091, 0.1439636118971596, 0.9996827277637624, 0.9999843451150667, 0.9999652411330777, 0.9998177043406151, 0.9998827323171091, 0.9995671833912418, 0.99989871416436, 0.9292013185323164, 0.0707887158993162, 0.9999860018546979, 0.9996832850587402, 0.9997226136583426, 0.9797943160337899, 0.020191736278225125, 0.9994310498358855, 0.9997515818251438, 0.9999915736346938, 0.99996079416423, 0.10621290092853174, 0.8936397242098701, 0.9996785772261345, 0.45013271548892536, 0.5498540183627924, 0.9995403905670623, 0.9999012099986163, 0.9997270870352728, 0.9998062379151993, 0.9999674630250869, 0.5640179561528893, 0.03578633142600806, 0.40020430609498825, 0.9973594513272942, 0.0026059273075059943, 0.9999163001744266, 0.9996186337852487, 0.9999025600495866, 0.9999702374353858, 0.9999730488716718, 0.9997690709500159, 0.9999407713703238, 0.6967180998967065, 0.06973073737336645, 0.07948649311856044, 0.15399689605836422, 0.9997090846236195], \"Term\": [\"accuracy\", \"accuracy\", \"activation\", \"add\", \"add\", \"algorithm\", \"align\", \"align_center\", \"align_center\", \"align_left\", \"align_left\", \"alt_enter\", \"amp\", \"amp\", \"amp\", \"analysis\", \"answer\", \"apply\", \"approach\", \"architecture\", \"array\", \"array\", \"attention\", \"augmentation\", \"base\", \"base\", \"base\", \"batch\", \"blockquote\", \"blog\", \"box\", \"br\", \"business\", \"call\", \"call\", \"call\", \"call\", \"call\", \"case\", \"category\", \"class\", \"classification\", \"cluster\", \"code\", \"column\", \"com\", \"compare\", \"compile\", \"compute\", \"container\", \"content\", \"conv\", \"copy\", \"cost\", \"country\", \"create\", \"create\", \"customer\", \"data\", \"data\", \"data\", \"dataframe\", \"dataset\", \"date\", \"datum\", \"datum\", \"datum\", \"deep\", \"dense\", \"description\", \"df\", \"difference\", \"different\", \"dimension\", \"distance\", \"document\", \"dropout\", \"dtype\", \"dtype\", \"embed\", \"encode\", \"encoder\", \"error\", \"error\", \"error\", \"estimator\", \"event\", \"example\", \"example\", \"explain\", \"extract\", \"feature\", \"field\", \"file\", \"find\", \"find\", \"find\", \"find\", \"first\", \"first\", \"first\", \"first\", \"fit\", \"fit\", \"forecast\", \"frame\", \"function\", \"function\", \"generate\", \"give\", \"give\", \"group\", \"gt\", \"gt\", \"high\", \"however\", \"however\", \"https\", \"image\", \"image\", \"implement\", \"import\", \"index\", \"input\", \"instance\", \"int\", \"issue\", \"issue\", \"item\", \"job\", \"label\", \"large\", \"last\", \"layer\", \"learn\", \"learning\", \"least\", \"leave\", \"length\", \"library\", \"link\", \"link\", \"list\", \"list\", \"list\", \"load\", \"local\", \"look\", \"look\", \"loss\", \"low\", \"lstm\", \"machine\", \"map\", \"math\", \"matrix\", \"mean\", \"memory\", \"message\", \"method\", \"metric\", \"model\", \"month\", \"name\", \"name\", \"net\", \"network\", \"network\", \"neural\", \"neural\", \"nofollow\", \"none\", \"noreferrer\", \"num\", \"number\", \"number\", \"number\", \"org\", \"output\", \"package\", \"page\", \"panda\", \"paper\", \"param\", \"path\", \"pattern\", \"perform\", \"performance\", \"pipeline\", \"plot\", \"png\", \"point\", \"positive\", \"possible\", \"post\", \"post\", \"pre\", \"pre\", \"predict\", \"prediction\", \"prediction\", \"pretraine\", \"price\", \"print\", \"print\", \"probability\", \"problem\", \"problem\", \"product\", \"python\", \"python\", \"python\", \"question\", \"quot\", \"random\", \"random\", \"random\", \"rate\", \"rate\", \"regard\", \"regression\", \"rel\", \"relu\", \"result\", \"result\", \"return\", \"return\", \"review\", \"row\", \"sample\", \"sample\", \"save\", \"scale\", \"scale\", \"science\", \"scientist\", \"score\", \"self\", \"sentence\", \"sequence\", \"sequence\", \"sequential\", \"set\", \"shape\", \"show\", \"show\", \"similar\", \"simple\", \"size\", \"size\", \"sklearn\", \"span\", \"split\", \"stack\", \"start\", \"state\", \"step\", \"step\", \"step\", \"string\", \"strong\", \"style\", \"support\", \"table\", \"team\", \"tensorflow\", \"test\", \"test\", \"text\", \"th_th\", \"thing\", \"time\", \"time\", \"tool\", \"topic\", \"train\", \"training\", \"transform\", \"transform\", \"transformer\", \"true\", \"true\", \"tutorial\", \"user\", \"util\", \"val\", \"validation\", \"value\", \"value\", \"value\", \"variable\", \"variable\", \"vector\", \"version\", \"way\", \"weight\", \"well\", \"wiki\", \"word\", \"work\", \"work\", \"work\", \"work\", \"year\"]}, \"R\": 30, \"lambda.step\": 0.01, \"plot.opts\": {\"xlab\": \"PC1\", \"ylab\": \"PC2\"}, \"topic.order\": [6, 4, 2, 1, 5, 3]};\n",
       "\n",
       "function LDAvis_load_lib(url, callback){\n",
       "  var s = document.createElement('script');\n",
       "  s.src = url;\n",
       "  s.async = true;\n",
       "  s.onreadystatechange = s.onload = callback;\n",
       "  s.onerror = function(){console.warn(\"failed to load library \" + url);};\n",
       "  document.getElementsByTagName(\"head\")[0].appendChild(s);\n",
       "}\n",
       "\n",
       "if(typeof(LDAvis) !== \"undefined\"){\n",
       "   // already loaded: just create the visualization\n",
       "   !function(LDAvis){\n",
       "       new LDAvis(\"#\" + \"ldavis_el171401661508241441696354515\", ldavis_el171401661508241441696354515_data);\n",
       "   }(LDAvis);\n",
       "}else if(typeof define === \"function\" && define.amd){\n",
       "   // require.js is available: use it to load d3/LDAvis\n",
       "   require.config({paths: {d3: \"https://d3js.org/d3.v5\"}});\n",
       "   require([\"d3\"], function(d3){\n",
       "      window.d3 = d3;\n",
       "      LDAvis_load_lib(\"https://cdn.jsdelivr.net/gh/bmabey/pyLDAvis@3.2.2/pyLDAvis/js/ldavis.v3.0.0.js\", function(){\n",
       "        new LDAvis(\"#\" + \"ldavis_el171401661508241441696354515\", ldavis_el171401661508241441696354515_data);\n",
       "      });\n",
       "    });\n",
       "}else{\n",
       "    // require.js not available: dynamically load d3 & LDAvis\n",
       "    LDAvis_load_lib(\"https://d3js.org/d3.v5.js\", function(){\n",
       "         LDAvis_load_lib(\"https://cdn.jsdelivr.net/gh/bmabey/pyLDAvis@3.2.2/pyLDAvis/js/ldavis.v3.0.0.js\", function(){\n",
       "                 new LDAvis(\"#\" + \"ldavis_el171401661508241441696354515\", ldavis_el171401661508241441696354515_data);\n",
       "            })\n",
       "         });\n",
       "}\n",
       "</script>"
      ],
      "text/plain": [
       "PreparedData(topic_coordinates=              x         y  topics  cluster       Freq\n",
       "topic                                                \n",
       "5     -0.008312 -0.210324       1        1  40.997176\n",
       "3     -0.297399  0.078556       2        1  16.161481\n",
       "1     -0.238582 -0.002653       3        1  13.814350\n",
       "0      0.197526  0.014167       4        1  12.444537\n",
       "4      0.178077 -0.223988       5        1  10.697956\n",
       "2      0.168690  0.344241       6        1   5.884499, topic_info=        Term           Freq          Total Category  logprob  loglift\n",
       "4       code   86045.000000   86045.000000  Default  30.0000  30.0000\n",
       "156    train   53022.000000   53022.000000  Default  29.0000  29.0000\n",
       "114    class   48376.000000   48376.000000  Default  28.0000  28.0000\n",
       "155   strong   46829.000000   46829.000000  Default  27.0000  27.0000\n",
       "77     model  107863.000000  107863.000000  Default  26.0000  26.0000\n",
       "...      ...            ...            ...      ...      ...      ...\n",
       "115     data    4773.641281   13101.923531   Topic6  -4.0671   1.8232\n",
       "1112   print    3585.065573    9148.801391   Topic6  -4.3535   1.8960\n",
       "141    issue    2255.494083    4321.916781   Topic6  -4.8169   2.1825\n",
       "34     datum    4701.754450   61094.517315   Topic6  -4.0823   0.2684\n",
       "217     call    1600.607560    5974.642853   Topic6  -5.1599   1.5157\n",
       "\n",
       "[271 rows x 6 columns], token_table=      Topic      Freq        Term\n",
       "term                             \n",
       "2301      2  0.415002    accuracy\n",
       "2301      3  0.584935    accuracy\n",
       "2191      2  0.999937  activation\n",
       "208       1  0.223097         add\n",
       "208       3  0.776860         add\n",
       "...     ...       ...         ...\n",
       "294       1  0.696718        work\n",
       "294       3  0.069731        work\n",
       "294       4  0.079486        work\n",
       "294       5  0.153997        work\n",
       "129       5  0.999709        year\n",
       "\n",
       "[304 rows x 3 columns], R=30, lambda_step=0.01, plot_opts={'xlab': 'PC1', 'ylab': 'PC2'}, topic_order=[6, 4, 2, 1, 5, 3])"
      ]
     },
     "execution_count": 80,
     "metadata": {},
     "output_type": "execute_result"
    }
   ],
   "source": [
    "import pyLDAvis.gensim\n",
    "pyLDAvis.enable_notebook()\n",
    "vis = pyLDAvis.gensim.prepare(lda_model, corpus, dictionary=lda_model.id2word)\n",
    "vis"
   ]
  },
  {
   "cell_type": "code",
   "execution_count": null,
   "metadata": {
    "execution": {
     "iopub.execute_input": "2022-08-13T14:58:17.542030Z",
     "iopub.status.busy": "2022-08-13T14:58:17.541415Z",
     "iopub.status.idle": "2022-08-13T14:58:17.569287Z",
     "shell.execute_reply": "2022-08-13T14:58:17.568614Z",
     "shell.execute_reply.started": "2022-08-13T14:58:17.541979Z"
    },
    "id": "KyhP1pGsO5VV",
    "outputId": "b07c418c-2e0b-4689-c529-69d4db6a4908"
   },
   "outputs": [
    {
     "data": {
      "text/html": [
       "<div>\n",
       "<style scoped>\n",
       "    .dataframe tbody tr th:only-of-type {\n",
       "        vertical-align: middle;\n",
       "    }\n",
       "\n",
       "    .dataframe tbody tr th {\n",
       "        vertical-align: top;\n",
       "    }\n",
       "\n",
       "    .dataframe thead th {\n",
       "        text-align: right;\n",
       "    }\n",
       "</style>\n",
       "<table border=\"1\" class=\"dataframe\">\n",
       "  <thead>\n",
       "    <tr style=\"text-align: right;\">\n",
       "      <th></th>\n",
       "      <th>Id</th>\n",
       "      <th>PostTypeId</th>\n",
       "      <th>CreationDate</th>\n",
       "      <th>Score</th>\n",
       "      <th>ViewCount</th>\n",
       "      <th>Body</th>\n",
       "      <th>OwnerUserId</th>\n",
       "      <th>LastActivityDate</th>\n",
       "      <th>Title</th>\n",
       "      <th>Tags</th>\n",
       "      <th>...</th>\n",
       "      <th>FavoriteCount</th>\n",
       "      <th>ClosedDate</th>\n",
       "      <th>ContentLicense</th>\n",
       "      <th>AcceptedAnswerId</th>\n",
       "      <th>LastEditorUserId</th>\n",
       "      <th>LastEditDate</th>\n",
       "      <th>ParentId</th>\n",
       "      <th>OwnerDisplayName</th>\n",
       "      <th>CommunityOwnedDate</th>\n",
       "      <th>LastEditorDisplayName</th>\n",
       "    </tr>\n",
       "  </thead>\n",
       "  <tbody>\n",
       "    <tr>\n",
       "      <th>0</th>\n",
       "      <td>5</td>\n",
       "      <td>1</td>\n",
       "      <td>2014-05-13T23:58:30.457</td>\n",
       "      <td>9</td>\n",
       "      <td>820.0</td>\n",
       "      <td>I always interested machine learning I figure one thing starting simple Hello World example I av...</td>\n",
       "      <td>5.0</td>\n",
       "      <td>2014-05-14T00:36:31.077</td>\n",
       "      <td>How can I do simple machine learning without hard-coding behavior?</td>\n",
       "      <td>&lt;machine-learning&gt;</td>\n",
       "      <td>...</td>\n",
       "      <td>1.0</td>\n",
       "      <td>2014-05-14T14:40:25.950</td>\n",
       "      <td>CC BY-SA 3.0</td>\n",
       "      <td>NaN</td>\n",
       "      <td>NaN</td>\n",
       "      <td>NaN</td>\n",
       "      <td>NaN</td>\n",
       "      <td>NaN</td>\n",
       "      <td>NaN</td>\n",
       "      <td>NaN</td>\n",
       "    </tr>\n",
       "    <tr>\n",
       "      <th>1</th>\n",
       "      <td>7</td>\n",
       "      <td>1</td>\n",
       "      <td>2014-05-14T00:11:06.457</td>\n",
       "      <td>4</td>\n",
       "      <td>462.0</td>\n",
       "      <td>As researcher instructor I looking open source books similar materials provide relatively thorou...</td>\n",
       "      <td>36.0</td>\n",
       "      <td>2014-05-16T13:45:00.237</td>\n",
       "      <td>What open-source books (or other materials) provide a relatively thorough overview of data science?</td>\n",
       "      <td>&lt;education&gt;&lt;open-source&gt;</td>\n",
       "      <td>...</td>\n",
       "      <td>1.0</td>\n",
       "      <td>2014-05-14T08:40:54.950</td>\n",
       "      <td>CC BY-SA 3.0</td>\n",
       "      <td>10.0</td>\n",
       "      <td>97.0</td>\n",
       "      <td>2014-05-16T13:45:00.237</td>\n",
       "      <td>NaN</td>\n",
       "      <td>NaN</td>\n",
       "      <td>NaN</td>\n",
       "      <td>NaN</td>\n",
       "    </tr>\n",
       "    <tr>\n",
       "      <th>2</th>\n",
       "      <td>9</td>\n",
       "      <td>2</td>\n",
       "      <td>2014-05-14T00:36:31.077</td>\n",
       "      <td>5</td>\n",
       "      <td>NaN</td>\n",
       "      <td>Not sure fits scope SE stab answer anyway With AI approaches decide modelling kind uncertainty O...</td>\n",
       "      <td>51.0</td>\n",
       "      <td>2014-05-14T00:36:31.077</td>\n",
       "      <td>NaN</td>\n",
       "      <td>NaN</td>\n",
       "      <td>...</td>\n",
       "      <td>NaN</td>\n",
       "      <td>NaN</td>\n",
       "      <td>CC BY-SA 3.0</td>\n",
       "      <td>NaN</td>\n",
       "      <td>NaN</td>\n",
       "      <td>NaN</td>\n",
       "      <td>5.0</td>\n",
       "      <td>NaN</td>\n",
       "      <td>NaN</td>\n",
       "      <td>NaN</td>\n",
       "    </tr>\n",
       "    <tr>\n",
       "      <th>3</th>\n",
       "      <td>10</td>\n",
       "      <td>2</td>\n",
       "      <td>2014-05-14T00:53:43.273</td>\n",
       "      <td>13</td>\n",
       "      <td>NaN</td>\n",
       "      <td>One book freely available The Elements Statistical Learning Hastie Tibshirani Friedman published...</td>\n",
       "      <td>22.0</td>\n",
       "      <td>2014-05-14T00:53:43.273</td>\n",
       "      <td>NaN</td>\n",
       "      <td>NaN</td>\n",
       "      <td>...</td>\n",
       "      <td>NaN</td>\n",
       "      <td>NaN</td>\n",
       "      <td>CC BY-SA 3.0</td>\n",
       "      <td>NaN</td>\n",
       "      <td>NaN</td>\n",
       "      <td>NaN</td>\n",
       "      <td>7.0</td>\n",
       "      <td>NaN</td>\n",
       "      <td>NaN</td>\n",
       "      <td>NaN</td>\n",
       "    </tr>\n",
       "    <tr>\n",
       "      <th>4</th>\n",
       "      <td>14</td>\n",
       "      <td>1</td>\n",
       "      <td>2014-05-14T01:25:59.677</td>\n",
       "      <td>25</td>\n",
       "      <td>1876.0</td>\n",
       "      <td>I sure data science discussed forum several synonyms least related fields large data analyzed My...</td>\n",
       "      <td>66.0</td>\n",
       "      <td>2020-08-16T13:01:33.543</td>\n",
       "      <td>Is Data Science the Same as Data Mining?</td>\n",
       "      <td>&lt;data-mining&gt;&lt;definitions&gt;</td>\n",
       "      <td>...</td>\n",
       "      <td>6.0</td>\n",
       "      <td>NaN</td>\n",
       "      <td>CC BY-SA 3.0</td>\n",
       "      <td>29.0</td>\n",
       "      <td>322.0</td>\n",
       "      <td>2014-06-17T16:17:20.473</td>\n",
       "      <td>NaN</td>\n",
       "      <td>NaN</td>\n",
       "      <td>NaN</td>\n",
       "      <td>NaN</td>\n",
       "    </tr>\n",
       "  </tbody>\n",
       "</table>\n",
       "<p>5 rows × 22 columns</p>\n",
       "</div>"
      ],
      "text/plain": [
       "   Id  PostTypeId             CreationDate  Score  ViewCount  \\\n",
       "0   5           1  2014-05-13T23:58:30.457      9      820.0   \n",
       "1   7           1  2014-05-14T00:11:06.457      4      462.0   \n",
       "2   9           2  2014-05-14T00:36:31.077      5        NaN   \n",
       "3  10           2  2014-05-14T00:53:43.273     13        NaN   \n",
       "4  14           1  2014-05-14T01:25:59.677     25     1876.0   \n",
       "\n",
       "                                                                                                  Body  \\\n",
       "0  I always interested machine learning I figure one thing starting simple Hello World example I av...   \n",
       "1  As researcher instructor I looking open source books similar materials provide relatively thorou...   \n",
       "2  Not sure fits scope SE stab answer anyway With AI approaches decide modelling kind uncertainty O...   \n",
       "3  One book freely available The Elements Statistical Learning Hastie Tibshirani Friedman published...   \n",
       "4  I sure data science discussed forum several synonyms least related fields large data analyzed My...   \n",
       "\n",
       "   OwnerUserId         LastActivityDate  \\\n",
       "0          5.0  2014-05-14T00:36:31.077   \n",
       "1         36.0  2014-05-16T13:45:00.237   \n",
       "2         51.0  2014-05-14T00:36:31.077   \n",
       "3         22.0  2014-05-14T00:53:43.273   \n",
       "4         66.0  2020-08-16T13:01:33.543   \n",
       "\n",
       "                                                                                                 Title  \\\n",
       "0                                   How can I do simple machine learning without hard-coding behavior?   \n",
       "1  What open-source books (or other materials) provide a relatively thorough overview of data science?   \n",
       "2                                                                                                  NaN   \n",
       "3                                                                                                  NaN   \n",
       "4                                                             Is Data Science the Same as Data Mining?   \n",
       "\n",
       "                         Tags  ...  FavoriteCount               ClosedDate  \\\n",
       "0          <machine-learning>  ...            1.0  2014-05-14T14:40:25.950   \n",
       "1    <education><open-source>  ...            1.0  2014-05-14T08:40:54.950   \n",
       "2                         NaN  ...            NaN                      NaN   \n",
       "3                         NaN  ...            NaN                      NaN   \n",
       "4  <data-mining><definitions>  ...            6.0                      NaN   \n",
       "\n",
       "   ContentLicense AcceptedAnswerId LastEditorUserId             LastEditDate  \\\n",
       "0    CC BY-SA 3.0              NaN              NaN                      NaN   \n",
       "1    CC BY-SA 3.0             10.0             97.0  2014-05-16T13:45:00.237   \n",
       "2    CC BY-SA 3.0              NaN              NaN                      NaN   \n",
       "3    CC BY-SA 3.0              NaN              NaN                      NaN   \n",
       "4    CC BY-SA 3.0             29.0            322.0  2014-06-17T16:17:20.473   \n",
       "\n",
       "   ParentId OwnerDisplayName  CommunityOwnedDate LastEditorDisplayName  \n",
       "0       NaN              NaN                 NaN                   NaN  \n",
       "1       NaN              NaN                 NaN                   NaN  \n",
       "2       5.0              NaN                 NaN                   NaN  \n",
       "3       7.0              NaN                 NaN                   NaN  \n",
       "4       NaN              NaN                 NaN                   NaN  \n",
       "\n",
       "[5 rows x 22 columns]"
      ]
     },
     "execution_count": 81,
     "metadata": {},
     "output_type": "execute_result"
    }
   ],
   "source": [
    "df.head()"
   ]
  },
  {
   "cell_type": "code",
   "execution_count": null,
   "metadata": {
    "execution": {
     "iopub.execute_input": "2022-08-13T14:58:26.694114Z",
     "iopub.status.busy": "2022-08-13T14:58:26.692954Z",
     "iopub.status.idle": "2022-08-13T14:58:26.700877Z",
     "shell.execute_reply": "2022-08-13T14:58:26.699601Z",
     "shell.execute_reply.started": "2022-08-13T14:58:26.694056Z"
    },
    "id": "4KmZz7tHO5VV"
   },
   "outputs": [],
   "source": [
    "df['Dominant_Topic'] = df_dominant_topic['Dominant_Topic']"
   ]
  },
  {
   "cell_type": "code",
   "execution_count": null,
   "metadata": {
    "execution": {
     "iopub.execute_input": "2022-08-13T14:58:33.182534Z",
     "iopub.status.busy": "2022-08-13T14:58:33.181783Z",
     "iopub.status.idle": "2022-08-13T14:58:33.208386Z",
     "shell.execute_reply": "2022-08-13T14:58:33.207527Z",
     "shell.execute_reply.started": "2022-08-13T14:58:33.182499Z"
    },
    "id": "IcFzSm_QO5VV",
    "outputId": "e9436ad1-f319-4fa0-b184-3ac269d35b9c"
   },
   "outputs": [
    {
     "data": {
      "text/html": [
       "<div>\n",
       "<style scoped>\n",
       "    .dataframe tbody tr th:only-of-type {\n",
       "        vertical-align: middle;\n",
       "    }\n",
       "\n",
       "    .dataframe tbody tr th {\n",
       "        vertical-align: top;\n",
       "    }\n",
       "\n",
       "    .dataframe thead th {\n",
       "        text-align: right;\n",
       "    }\n",
       "</style>\n",
       "<table border=\"1\" class=\"dataframe\">\n",
       "  <thead>\n",
       "    <tr style=\"text-align: right;\">\n",
       "      <th></th>\n",
       "      <th>Id</th>\n",
       "      <th>PostTypeId</th>\n",
       "      <th>CreationDate</th>\n",
       "      <th>Score</th>\n",
       "      <th>ViewCount</th>\n",
       "      <th>Body</th>\n",
       "      <th>OwnerUserId</th>\n",
       "      <th>LastActivityDate</th>\n",
       "      <th>Title</th>\n",
       "      <th>Tags</th>\n",
       "      <th>...</th>\n",
       "      <th>ClosedDate</th>\n",
       "      <th>ContentLicense</th>\n",
       "      <th>AcceptedAnswerId</th>\n",
       "      <th>LastEditorUserId</th>\n",
       "      <th>LastEditDate</th>\n",
       "      <th>ParentId</th>\n",
       "      <th>OwnerDisplayName</th>\n",
       "      <th>CommunityOwnedDate</th>\n",
       "      <th>LastEditorDisplayName</th>\n",
       "      <th>Dominant_Topic</th>\n",
       "    </tr>\n",
       "  </thead>\n",
       "  <tbody>\n",
       "    <tr>\n",
       "      <th>0</th>\n",
       "      <td>5</td>\n",
       "      <td>1</td>\n",
       "      <td>2014-05-13T23:58:30.457</td>\n",
       "      <td>9</td>\n",
       "      <td>820.0</td>\n",
       "      <td>I always interested machine learning I figure one thing starting simple Hello World example I av...</td>\n",
       "      <td>5.0</td>\n",
       "      <td>2014-05-14T00:36:31.077</td>\n",
       "      <td>How can I do simple machine learning without hard-coding behavior?</td>\n",
       "      <td>&lt;machine-learning&gt;</td>\n",
       "      <td>...</td>\n",
       "      <td>2014-05-14T14:40:25.950</td>\n",
       "      <td>CC BY-SA 3.0</td>\n",
       "      <td>NaN</td>\n",
       "      <td>NaN</td>\n",
       "      <td>NaN</td>\n",
       "      <td>NaN</td>\n",
       "      <td>NaN</td>\n",
       "      <td>NaN</td>\n",
       "      <td>NaN</td>\n",
       "      <td>1.0</td>\n",
       "    </tr>\n",
       "    <tr>\n",
       "      <th>1</th>\n",
       "      <td>7</td>\n",
       "      <td>1</td>\n",
       "      <td>2014-05-14T00:11:06.457</td>\n",
       "      <td>4</td>\n",
       "      <td>462.0</td>\n",
       "      <td>As researcher instructor I looking open source books similar materials provide relatively thorou...</td>\n",
       "      <td>36.0</td>\n",
       "      <td>2014-05-16T13:45:00.237</td>\n",
       "      <td>What open-source books (or other materials) provide a relatively thorough overview of data science?</td>\n",
       "      <td>&lt;education&gt;&lt;open-source&gt;</td>\n",
       "      <td>...</td>\n",
       "      <td>2014-05-14T08:40:54.950</td>\n",
       "      <td>CC BY-SA 3.0</td>\n",
       "      <td>10.0</td>\n",
       "      <td>97.0</td>\n",
       "      <td>2014-05-16T13:45:00.237</td>\n",
       "      <td>NaN</td>\n",
       "      <td>NaN</td>\n",
       "      <td>NaN</td>\n",
       "      <td>NaN</td>\n",
       "      <td>5.0</td>\n",
       "    </tr>\n",
       "    <tr>\n",
       "      <th>2</th>\n",
       "      <td>9</td>\n",
       "      <td>2</td>\n",
       "      <td>2014-05-14T00:36:31.077</td>\n",
       "      <td>5</td>\n",
       "      <td>NaN</td>\n",
       "      <td>Not sure fits scope SE stab answer anyway With AI approaches decide modelling kind uncertainty O...</td>\n",
       "      <td>51.0</td>\n",
       "      <td>2014-05-14T00:36:31.077</td>\n",
       "      <td>NaN</td>\n",
       "      <td>NaN</td>\n",
       "      <td>...</td>\n",
       "      <td>NaN</td>\n",
       "      <td>CC BY-SA 3.0</td>\n",
       "      <td>NaN</td>\n",
       "      <td>NaN</td>\n",
       "      <td>NaN</td>\n",
       "      <td>5.0</td>\n",
       "      <td>NaN</td>\n",
       "      <td>NaN</td>\n",
       "      <td>NaN</td>\n",
       "      <td>5.0</td>\n",
       "    </tr>\n",
       "    <tr>\n",
       "      <th>3</th>\n",
       "      <td>10</td>\n",
       "      <td>2</td>\n",
       "      <td>2014-05-14T00:53:43.273</td>\n",
       "      <td>13</td>\n",
       "      <td>NaN</td>\n",
       "      <td>One book freely available The Elements Statistical Learning Hastie Tibshirani Friedman published...</td>\n",
       "      <td>22.0</td>\n",
       "      <td>2014-05-14T00:53:43.273</td>\n",
       "      <td>NaN</td>\n",
       "      <td>NaN</td>\n",
       "      <td>...</td>\n",
       "      <td>NaN</td>\n",
       "      <td>CC BY-SA 3.0</td>\n",
       "      <td>NaN</td>\n",
       "      <td>NaN</td>\n",
       "      <td>NaN</td>\n",
       "      <td>7.0</td>\n",
       "      <td>NaN</td>\n",
       "      <td>NaN</td>\n",
       "      <td>NaN</td>\n",
       "      <td>1.0</td>\n",
       "    </tr>\n",
       "    <tr>\n",
       "      <th>4</th>\n",
       "      <td>14</td>\n",
       "      <td>1</td>\n",
       "      <td>2014-05-14T01:25:59.677</td>\n",
       "      <td>25</td>\n",
       "      <td>1876.0</td>\n",
       "      <td>I sure data science discussed forum several synonyms least related fields large data analyzed My...</td>\n",
       "      <td>66.0</td>\n",
       "      <td>2020-08-16T13:01:33.543</td>\n",
       "      <td>Is Data Science the Same as Data Mining?</td>\n",
       "      <td>&lt;data-mining&gt;&lt;definitions&gt;</td>\n",
       "      <td>...</td>\n",
       "      <td>NaN</td>\n",
       "      <td>CC BY-SA 3.0</td>\n",
       "      <td>29.0</td>\n",
       "      <td>322.0</td>\n",
       "      <td>2014-06-17T16:17:20.473</td>\n",
       "      <td>NaN</td>\n",
       "      <td>NaN</td>\n",
       "      <td>NaN</td>\n",
       "      <td>NaN</td>\n",
       "      <td>4.0</td>\n",
       "    </tr>\n",
       "  </tbody>\n",
       "</table>\n",
       "<p>5 rows × 23 columns</p>\n",
       "</div>"
      ],
      "text/plain": [
       "   Id  PostTypeId             CreationDate  Score  ViewCount  \\\n",
       "0   5           1  2014-05-13T23:58:30.457      9      820.0   \n",
       "1   7           1  2014-05-14T00:11:06.457      4      462.0   \n",
       "2   9           2  2014-05-14T00:36:31.077      5        NaN   \n",
       "3  10           2  2014-05-14T00:53:43.273     13        NaN   \n",
       "4  14           1  2014-05-14T01:25:59.677     25     1876.0   \n",
       "\n",
       "                                                                                                  Body  \\\n",
       "0  I always interested machine learning I figure one thing starting simple Hello World example I av...   \n",
       "1  As researcher instructor I looking open source books similar materials provide relatively thorou...   \n",
       "2  Not sure fits scope SE stab answer anyway With AI approaches decide modelling kind uncertainty O...   \n",
       "3  One book freely available The Elements Statistical Learning Hastie Tibshirani Friedman published...   \n",
       "4  I sure data science discussed forum several synonyms least related fields large data analyzed My...   \n",
       "\n",
       "   OwnerUserId         LastActivityDate  \\\n",
       "0          5.0  2014-05-14T00:36:31.077   \n",
       "1         36.0  2014-05-16T13:45:00.237   \n",
       "2         51.0  2014-05-14T00:36:31.077   \n",
       "3         22.0  2014-05-14T00:53:43.273   \n",
       "4         66.0  2020-08-16T13:01:33.543   \n",
       "\n",
       "                                                                                                 Title  \\\n",
       "0                                   How can I do simple machine learning without hard-coding behavior?   \n",
       "1  What open-source books (or other materials) provide a relatively thorough overview of data science?   \n",
       "2                                                                                                  NaN   \n",
       "3                                                                                                  NaN   \n",
       "4                                                             Is Data Science the Same as Data Mining?   \n",
       "\n",
       "                         Tags  ...               ClosedDate  ContentLicense  \\\n",
       "0          <machine-learning>  ...  2014-05-14T14:40:25.950    CC BY-SA 3.0   \n",
       "1    <education><open-source>  ...  2014-05-14T08:40:54.950    CC BY-SA 3.0   \n",
       "2                         NaN  ...                      NaN    CC BY-SA 3.0   \n",
       "3                         NaN  ...                      NaN    CC BY-SA 3.0   \n",
       "4  <data-mining><definitions>  ...                      NaN    CC BY-SA 3.0   \n",
       "\n",
       "   AcceptedAnswerId LastEditorUserId             LastEditDate  ParentId  \\\n",
       "0               NaN              NaN                      NaN       NaN   \n",
       "1              10.0             97.0  2014-05-16T13:45:00.237       NaN   \n",
       "2               NaN              NaN                      NaN       5.0   \n",
       "3               NaN              NaN                      NaN       7.0   \n",
       "4              29.0            322.0  2014-06-17T16:17:20.473       NaN   \n",
       "\n",
       "   OwnerDisplayName CommunityOwnedDate  LastEditorDisplayName Dominant_Topic  \n",
       "0               NaN                NaN                    NaN            1.0  \n",
       "1               NaN                NaN                    NaN            5.0  \n",
       "2               NaN                NaN                    NaN            5.0  \n",
       "3               NaN                NaN                    NaN            1.0  \n",
       "4               NaN                NaN                    NaN            4.0  \n",
       "\n",
       "[5 rows x 23 columns]"
      ]
     },
     "execution_count": 83,
     "metadata": {},
     "output_type": "execute_result"
    }
   ],
   "source": [
    "df.head()"
   ]
  },
  {
   "cell_type": "code",
   "execution_count": null,
   "metadata": {
    "execution": {
     "iopub.execute_input": "2022-08-13T14:58:39.705452Z",
     "iopub.status.busy": "2022-08-13T14:58:39.705000Z",
     "iopub.status.idle": "2022-08-13T14:58:39.712088Z",
     "shell.execute_reply": "2022-08-13T14:58:39.711371Z",
     "shell.execute_reply.started": "2022-08-13T14:58:39.705426Z"
    },
    "id": "owIiIomQO5VV",
    "outputId": "7e0407fc-ef8d-43c0-ac3f-8bd7b308cd55"
   },
   "outputs": [
    {
     "data": {
      "text/plain": [
       "Index(['Id', 'PostTypeId', 'CreationDate', 'Score', 'ViewCount', 'Body',\n",
       "       'OwnerUserId', 'LastActivityDate', 'Title', 'Tags', 'AnswerCount',\n",
       "       'CommentCount', 'FavoriteCount', 'ClosedDate', 'ContentLicense',\n",
       "       'AcceptedAnswerId', 'LastEditorUserId', 'LastEditDate', 'ParentId',\n",
       "       'OwnerDisplayName', 'CommunityOwnedDate', 'LastEditorDisplayName',\n",
       "       'Dominant_Topic'],\n",
       "      dtype='object')"
      ]
     },
     "execution_count": 84,
     "metadata": {},
     "output_type": "execute_result"
    }
   ],
   "source": [
    "df.columns"
   ]
  },
  {
   "cell_type": "code",
   "execution_count": null,
   "metadata": {
    "execution": {
     "iopub.execute_input": "2022-08-13T14:58:41.884663Z",
     "iopub.status.busy": "2022-08-13T14:58:41.884082Z",
     "iopub.status.idle": "2022-08-13T14:58:41.944875Z",
     "shell.execute_reply": "2022-08-13T14:58:41.943697Z",
     "shell.execute_reply.started": "2022-08-13T14:58:41.884637Z"
    },
    "id": "DMSdJ3gOO5VV"
   },
   "outputs": [],
   "source": [
    "df_0 = df[df['Dominant_Topic'] == 0]\n",
    "df_1 = df[df['Dominant_Topic'] == 1]\n",
    "df_2 = df[df['Dominant_Topic'] == 2]\n",
    "df_3 = df[df['Dominant_Topic'] == 3]\n",
    "df_4 = df[df['Dominant_Topic'] == 4]\n",
    "df_5 = df[df['Dominant_Topic'] == 5]"
   ]
  },
  {
   "cell_type": "code",
   "execution_count": null,
   "metadata": {
    "execution": {
     "iopub.execute_input": "2022-08-13T15:07:14.060351Z",
     "iopub.status.busy": "2022-08-13T15:07:14.059959Z",
     "iopub.status.idle": "2022-08-13T15:07:15.427698Z",
     "shell.execute_reply": "2022-08-13T15:07:15.426826Z",
     "shell.execute_reply.started": "2022-08-13T15:07:14.060325Z"
    },
    "id": "k0t0gITeO5VV"
   },
   "outputs": [],
   "source": [
    "df.to_csv('df_final.csv')\n"
   ]
  },
  {
   "cell_type": "code",
   "execution_count": null,
   "metadata": {
    "execution": {
     "iopub.execute_input": "2022-08-13T14:58:44.506817Z",
     "iopub.status.busy": "2022-08-13T14:58:44.506219Z",
     "iopub.status.idle": "2022-08-13T14:58:44.512859Z",
     "shell.execute_reply": "2022-08-13T14:58:44.512122Z",
     "shell.execute_reply.started": "2022-08-13T14:58:44.506791Z"
    },
    "id": "1i04A6z0O5VV",
    "outputId": "aaa52d2e-65f6-4c4d-8970-592d96c5b524"
   },
   "outputs": [
    {
     "data": {
      "text/plain": [
       "(5851, 5251, 747, 6293, 2603, 48194)"
      ]
     },
     "execution_count": 86,
     "metadata": {},
     "output_type": "execute_result"
    }
   ],
   "source": [
    "len(df_0),len(df_1),len(df_2),len(df_3),len(df_4),len(df_5)"
   ]
  },
  {
   "cell_type": "code",
   "execution_count": null,
   "metadata": {
    "execution": {
     "iopub.execute_input": "2022-08-13T14:58:51.821745Z",
     "iopub.status.busy": "2022-08-13T14:58:51.821079Z",
     "iopub.status.idle": "2022-08-13T14:58:51.832096Z",
     "shell.execute_reply": "2022-08-13T14:58:51.830986Z",
     "shell.execute_reply.started": "2022-08-13T14:58:51.821709Z"
    },
    "id": "AoHgBZioO5VW",
    "outputId": "febec13b-258b-4b99-b51a-6ac7eb9fbb08"
   },
   "outputs": [
    {
     "name": "stdout",
     "output_type": "stream",
     "text": [
      "count      2304.000000\n",
      "mean       1875.890191\n",
      "std        8995.812221\n",
      "min           4.000000\n",
      "25%          38.000000\n",
      "50%         131.500000\n",
      "75%         684.000000\n",
      "max      268099.000000\n",
      "Name: ViewCount, dtype: float64\n"
     ]
    }
   ],
   "source": [
    "print(df_0.ViewCount.describe())"
   ]
  },
  {
   "cell_type": "code",
   "execution_count": null,
   "metadata": {
    "execution": {
     "iopub.execute_input": "2022-08-13T14:58:55.071552Z",
     "iopub.status.busy": "2022-08-13T14:58:55.071219Z",
     "iopub.status.idle": "2022-08-13T14:58:55.082230Z",
     "shell.execute_reply": "2022-08-13T14:58:55.080835Z",
     "shell.execute_reply.started": "2022-08-13T14:58:55.071523Z"
    },
    "id": "dJYyPMNPO5VW",
    "outputId": "7be61d15-a7d0-4aa6-e9c9-abbfe90284bf"
   },
   "outputs": [
    {
     "name": "stdout",
     "output_type": "stream",
     "text": [
      "count      2159.000000\n",
      "mean       3725.635479\n",
      "std       14786.715979\n",
      "min           3.000000\n",
      "25%          58.000000\n",
      "50%         297.000000\n",
      "75%        1737.500000\n",
      "max      308042.000000\n",
      "Name: ViewCount, dtype: float64\n"
     ]
    }
   ],
   "source": [
    "print(df_1.ViewCount.describe())"
   ]
  },
  {
   "cell_type": "code",
   "execution_count": null,
   "metadata": {
    "execution": {
     "iopub.execute_input": "2022-08-13T14:59:09.438765Z",
     "iopub.status.busy": "2022-08-13T14:59:09.438022Z",
     "iopub.status.idle": "2022-08-13T14:59:09.447810Z",
     "shell.execute_reply": "2022-08-13T14:59:09.446712Z",
     "shell.execute_reply.started": "2022-08-13T14:59:09.438728Z"
    },
    "id": "qkLUPXxbO5VW",
    "outputId": "74349e73-6e9d-49df-ad28-bff3337759f1"
   },
   "outputs": [
    {
     "name": "stdout",
     "output_type": "stream",
     "text": [
      "count      365.000000\n",
      "mean      2859.934247\n",
      "std       7556.841423\n",
      "min          7.000000\n",
      "25%         52.000000\n",
      "50%        350.000000\n",
      "75%       2048.000000\n",
      "max      67213.000000\n",
      "Name: ViewCount, dtype: float64\n"
     ]
    }
   ],
   "source": [
    "print(df_2.ViewCount.describe())"
   ]
  },
  {
   "cell_type": "code",
   "execution_count": null,
   "metadata": {
    "execution": {
     "iopub.execute_input": "2022-08-13T14:59:15.484684Z",
     "iopub.status.busy": "2022-08-13T14:59:15.484035Z",
     "iopub.status.idle": "2022-08-13T14:59:15.494330Z",
     "shell.execute_reply": "2022-08-13T14:59:15.493196Z",
     "shell.execute_reply.started": "2022-08-13T14:59:15.484657Z"
    },
    "id": "5IqyWQuOO5VW",
    "outputId": "2fe769c6-239e-427c-9547-c2f9d6eaf795"
   },
   "outputs": [
    {
     "name": "stdout",
     "output_type": "stream",
     "text": [
      "count      3430.000000\n",
      "mean       1636.130904\n",
      "std        7085.272597\n",
      "min           3.000000\n",
      "25%          46.000000\n",
      "50%         174.500000\n",
      "75%         872.500000\n",
      "max      249602.000000\n",
      "Name: ViewCount, dtype: float64\n"
     ]
    }
   ],
   "source": [
    "print(df_3.ViewCount.describe())"
   ]
  },
  {
   "cell_type": "code",
   "execution_count": null,
   "metadata": {
    "execution": {
     "iopub.execute_input": "2022-08-13T14:59:21.449415Z",
     "iopub.status.busy": "2022-08-13T14:59:21.449070Z",
     "iopub.status.idle": "2022-08-13T14:59:21.461503Z",
     "shell.execute_reply": "2022-08-13T14:59:21.460385Z",
     "shell.execute_reply.started": "2022-08-13T14:59:21.449390Z"
    },
    "id": "efIsYURAO5VW",
    "outputId": "996c8e92-5474-4ae1-8322-8718a9fe338f"
   },
   "outputs": [
    {
     "name": "stdout",
     "output_type": "stream",
     "text": [
      "count      1408.000000\n",
      "mean       1884.705966\n",
      "std        9859.452892\n",
      "min           3.000000\n",
      "25%          38.000000\n",
      "50%         113.000000\n",
      "75%         616.250000\n",
      "max      191654.000000\n",
      "Name: ViewCount, dtype: float64\n"
     ]
    }
   ],
   "source": [
    "print(df_4.ViewCount.describe())"
   ]
  },
  {
   "cell_type": "code",
   "execution_count": null,
   "metadata": {
    "execution": {
     "iopub.execute_input": "2022-08-13T14:59:27.136549Z",
     "iopub.status.busy": "2022-08-13T14:59:27.136227Z",
     "iopub.status.idle": "2022-08-13T14:59:27.149136Z",
     "shell.execute_reply": "2022-08-13T14:59:27.148206Z",
     "shell.execute_reply.started": "2022-08-13T14:59:27.136524Z"
    },
    "id": "HL7slkSZO5VW",
    "outputId": "8e2bfbb9-2e39-4091-c525-d8b945483a9b"
   },
   "outputs": [
    {
     "name": "stdout",
     "output_type": "stream",
     "text": [
      "count     22831.000000\n",
      "mean       1534.464456\n",
      "std        8804.032749\n",
      "min           2.000000\n",
      "25%          40.000000\n",
      "50%         123.000000\n",
      "75%         605.500000\n",
      "max      359046.000000\n",
      "Name: ViewCount, dtype: float64\n"
     ]
    }
   ],
   "source": [
    "print(df_5.ViewCount.describe())"
   ]
  },
  {
   "cell_type": "code",
   "execution_count": null,
   "metadata": {
    "execution": {
     "iopub.execute_input": "2022-08-13T15:01:41.173352Z",
     "iopub.status.busy": "2022-08-13T15:01:41.173013Z",
     "iopub.status.idle": "2022-08-13T15:01:41.183775Z",
     "shell.execute_reply": "2022-08-13T15:01:41.182595Z",
     "shell.execute_reply.started": "2022-08-13T15:01:41.173327Z"
    },
    "id": "HzH-_qWaO5VY",
    "outputId": "47fd7b9d-bbd4-45d5-f395-7a504d91820f"
   },
   "outputs": [
    {
     "name": "stdout",
     "output_type": "stream",
     "text": [
      "count    2304.000000\n",
      "mean        1.071181\n",
      "std         1.048607\n",
      "min         0.000000\n",
      "25%         0.000000\n",
      "50%         1.000000\n",
      "75%         1.000000\n",
      "max        17.000000\n",
      "Name: AnswerCount, dtype: float64\n"
     ]
    }
   ],
   "source": [
    "print(df_0.AnswerCount.describe())"
   ]
  },
  {
   "cell_type": "code",
   "execution_count": null,
   "metadata": {
    "execution": {
     "iopub.execute_input": "2022-08-13T15:01:46.118793Z",
     "iopub.status.busy": "2022-08-13T15:01:46.118454Z",
     "iopub.status.idle": "2022-08-13T15:01:46.129040Z",
     "shell.execute_reply": "2022-08-13T15:01:46.127766Z",
     "shell.execute_reply.started": "2022-08-13T15:01:46.118769Z"
    },
    "id": "mnm5QeKIO5VY",
    "outputId": "95642076-b70a-4fc7-f3b4-7d301ce8e731"
   },
   "outputs": [
    {
     "name": "stdout",
     "output_type": "stream",
     "text": [
      "count    2159.000000\n",
      "mean        1.171376\n",
      "std         0.994561\n",
      "min         0.000000\n",
      "25%         1.000000\n",
      "50%         1.000000\n",
      "75%         1.000000\n",
      "max        10.000000\n",
      "Name: AnswerCount, dtype: float64\n"
     ]
    }
   ],
   "source": [
    "print(df_1.AnswerCount.describe())\n"
   ]
  },
  {
   "cell_type": "code",
   "execution_count": null,
   "metadata": {
    "execution": {
     "iopub.execute_input": "2022-08-13T15:01:49.840808Z",
     "iopub.status.busy": "2022-08-13T15:01:49.840471Z",
     "iopub.status.idle": "2022-08-13T15:01:49.851652Z",
     "shell.execute_reply": "2022-08-13T15:01:49.850094Z",
     "shell.execute_reply.started": "2022-08-13T15:01:49.840782Z"
    },
    "id": "BOIDekfrO5VY",
    "outputId": "1fc52ace-36e3-40e7-bb51-e03a803f2646"
   },
   "outputs": [
    {
     "name": "stdout",
     "output_type": "stream",
     "text": [
      "count    365.000000\n",
      "mean       0.997260\n",
      "std        0.976365\n",
      "min        0.000000\n",
      "25%        0.000000\n",
      "50%        1.000000\n",
      "75%        1.000000\n",
      "max        6.000000\n",
      "Name: AnswerCount, dtype: float64\n"
     ]
    }
   ],
   "source": [
    "print(df_2.AnswerCount.describe())\n"
   ]
  },
  {
   "cell_type": "code",
   "execution_count": null,
   "metadata": {
    "execution": {
     "iopub.execute_input": "2022-08-13T15:01:54.717306Z",
     "iopub.status.busy": "2022-08-13T15:01:54.716957Z",
     "iopub.status.idle": "2022-08-13T15:01:54.725629Z",
     "shell.execute_reply": "2022-08-13T15:01:54.724608Z",
     "shell.execute_reply.started": "2022-08-13T15:01:54.717277Z"
    },
    "id": "iTc3h8ggO5VY",
    "outputId": "aaa99756-0508-40ed-fd17-9551c6ed2f92"
   },
   "outputs": [
    {
     "name": "stdout",
     "output_type": "stream",
     "text": [
      "count    3430.000000\n",
      "mean        0.948688\n",
      "std         0.864546\n",
      "min         0.000000\n",
      "25%         0.000000\n",
      "50%         1.000000\n",
      "75%         1.000000\n",
      "max        11.000000\n",
      "Name: AnswerCount, dtype: float64\n"
     ]
    }
   ],
   "source": [
    "print(df_3.AnswerCount.describe())\n"
   ]
  },
  {
   "cell_type": "code",
   "execution_count": null,
   "metadata": {
    "execution": {
     "iopub.execute_input": "2022-08-13T15:02:01.658485Z",
     "iopub.status.busy": "2022-08-13T15:02:01.658171Z",
     "iopub.status.idle": "2022-08-13T15:02:01.667283Z",
     "shell.execute_reply": "2022-08-13T15:02:01.666056Z",
     "shell.execute_reply.started": "2022-08-13T15:02:01.658462Z"
    },
    "id": "Hh-D8TvwO5VY",
    "outputId": "a71b19f0-bb50-4f58-ec56-c16372c6dcef"
   },
   "outputs": [
    {
     "name": "stdout",
     "output_type": "stream",
     "text": [
      "count    1408.000000\n",
      "mean        1.242188\n",
      "std         1.315377\n",
      "min         0.000000\n",
      "25%         1.000000\n",
      "50%         1.000000\n",
      "75%         2.000000\n",
      "max        14.000000\n",
      "Name: AnswerCount, dtype: float64\n"
     ]
    }
   ],
   "source": [
    "print(df_4.AnswerCount.describe())\n"
   ]
  },
  {
   "cell_type": "code",
   "execution_count": null,
   "metadata": {
    "execution": {
     "iopub.execute_input": "2022-08-13T15:02:11.399114Z",
     "iopub.status.busy": "2022-08-13T15:02:11.398785Z",
     "iopub.status.idle": "2022-08-13T15:02:11.411724Z",
     "shell.execute_reply": "2022-08-13T15:02:11.410159Z",
     "shell.execute_reply.started": "2022-08-13T15:02:11.399089Z"
    },
    "id": "6U7kyHcuO5VY",
    "outputId": "5ac14ba5-447f-42d6-9c26-46e471404f05"
   },
   "outputs": [
    {
     "name": "stdout",
     "output_type": "stream",
     "text": [
      "count    22831.000000\n",
      "mean         1.120582\n",
      "std          1.057709\n",
      "min          0.000000\n",
      "25%          0.000000\n",
      "50%          1.000000\n",
      "75%          1.000000\n",
      "max         35.000000\n",
      "Name: AnswerCount, dtype: float64\n"
     ]
    }
   ],
   "source": [
    "print(df_5.AnswerCount.describe())"
   ]
  }
 ],
 "metadata": {
  "colab": {
   "collapsed_sections": [],
   "provenance": []
  },
  "kernelspec": {
   "display_name": "Python 3 (ipykernel)",
   "language": "python",
   "name": "python3"
  },
  "language_info": {
   "codemirror_mode": {
    "name": "ipython",
    "version": 3
   },
   "file_extension": ".py",
   "mimetype": "text/x-python",
   "name": "python",
   "nbconvert_exporter": "python",
   "pygments_lexer": "ipython3",
   "version": "3.7.3"
  }
 },
 "nbformat": 4,
 "nbformat_minor": 4
}
